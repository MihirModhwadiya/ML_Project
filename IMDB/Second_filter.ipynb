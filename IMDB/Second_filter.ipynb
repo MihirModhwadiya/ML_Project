{
 "cells": [
  {
   "cell_type": "code",
   "execution_count": 5,
   "metadata": {},
   "outputs": [],
   "source": [
    "import ast\n",
    "import pandas as pd\n",
    "\n",
    "ds = pd.read_csv('./perfect_datasets/perfect_dataset_v1.csv')\n",
    "\n",
    "\n",
    "def to_list(x):\n",
    "    L=[]\n",
    "    for i in ast.literal_eval(x):    \n",
    "        L.append(i[\"name\"])\n",
    "    return L\n",
    "\n",
    "ds[\"genres\"] = ds[\"genres\"].apply(to_list)\n",
    "ds[\"keywords\"] = ds[\"keywords\"].apply(to_list)\n",
    "ds[\"production_companies\"] = ds[\"production_companies\"].apply(to_list)\n",
    "ds[\"cast\"] = ds[\"cast\"].apply(to_list)\n",
    "\n",
    "\n",
    "def crew(x):\n",
    "    L=[]\n",
    "    C = [\"Writer\", \"Director\", \"Producer\"]\n",
    "    for i in ast.literal_eval(x):\n",
    "        if (i[\"job\"] in C):\n",
    "            if i[\"name\"] not in L:\n",
    "                L.append(i[\"name\"])\n",
    "    return L\n",
    "\n",
    "ds[\"crew\"] = ds[\"crew\"].apply(crew)\n",
    "\n",
    "ds.to_csv('./perfect_datasets/perfect_dataset_v2.csv', index=False)\n"
   ]
  }
 ],
 "metadata": {
  "kernelspec": {
   "display_name": "base",
   "language": "python",
   "name": "python3"
  },
  "language_info": {
   "codemirror_mode": {
    "name": "ipython",
    "version": 3
   },
   "file_extension": ".py",
   "mimetype": "text/x-python",
   "name": "python",
   "nbconvert_exporter": "python",
   "pygments_lexer": "ipython3",
   "version": "3.11.4"
  }
 },
 "nbformat": 4,
 "nbformat_minor": 2
}
