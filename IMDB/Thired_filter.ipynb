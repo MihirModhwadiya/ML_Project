{
 "cells": [
  {
   "cell_type": "code",
   "execution_count": 177,
   "metadata": {},
   "outputs": [
    {
     "name": "stderr",
     "output_type": "stream",
     "text": [
      "C:\\Users\\mihir\\AppData\\Local\\Temp\\ipykernel_15520\\4166226920.py:18: SettingWithCopyWarning: \n",
      "A value is trying to be set on a copy of a slice from a DataFrame.\n",
      "Try using .loc[row_indexer,col_indexer] = value instead\n",
      "\n",
      "See the caveats in the documentation: https://pandas.pydata.org/pandas-docs/stable/user_guide/indexing.html#returning-a-view-versus-a-copy\n",
      "  ds2[\"tags\"] = ds2[\"tags\"].apply(lambda x:\" \".join(x))\n",
      "C:\\Users\\mihir\\AppData\\Local\\Temp\\ipykernel_15520\\4166226920.py:20: SettingWithCopyWarning: \n",
      "A value is trying to be set on a copy of a slice from a DataFrame.\n",
      "Try using .loc[row_indexer,col_indexer] = value instead\n",
      "\n",
      "See the caveats in the documentation: https://pandas.pydata.org/pandas-docs/stable/user_guide/indexing.html#returning-a-view-versus-a-copy\n",
      "  ds2[\"tags\"] = ds2[\"tags\"].apply(lambda x:x.lower())\n"
     ]
    }
   ],
   "source": [
    "import pandas as pd\n",
    "import ast\n",
    "\n",
    "ds = pd.read_csv(\"perfect_datasets/perfect_dataset_v2.csv\")\n",
    "\n",
    "ds[\"genres\"] = ds[\"genres\"].apply(lambda x:ast.literal_eval(x))\n",
    "ds[\"keywords\"] = ds[\"keywords\"].apply(lambda x:ast.literal_eval(x))\n",
    "ds[\"production_companies\"] = ds[\"production_companies\"].apply(lambda x:ast.literal_eval(x))\n",
    "ds[\"overview\"] = ds[\"overview\"].apply(lambda x:ast.literal_eval(x))\n",
    "ds[\"cast\"] = ds[\"cast\"].apply(lambda x:ast.literal_eval(x))\n",
    "ds[\"crew\"] = ds[\"crew\"].apply(lambda x:ast.literal_eval(x))\n",
    "ds[\"title\"] = ds[\"title\"].apply(lambda x:[x])\n",
    "\n",
    "ds['tags'] = ds[\"title\"] + ds['genres'] + ds[\"keywords\"] + ds[\"production_companies\"] + ds[\"overview\"]+ ds[\"cast\"] + ds[\"crew\"]\n",
    "\n",
    "ds2 = ds[[\"movie_id\", \"title\", \"tags\"]]\n",
    "\n",
    "ds2[\"tags\"] = ds2[\"tags\"].apply(lambda x:\" \".join(x))\n",
    "\n",
    "ds2[\"tags\"] = ds2[\"tags\"].apply(lambda x:x.lower())\n",
    "\n",
    "ds2.to_csv(\"perfect_datasets/perfect_dataset_v3.csv\", index=False)"
   ]
  }
 ],
 "metadata": {
  "kernelspec": {
   "display_name": "Python 3 (ipykernel)",
   "language": "python",
   "name": "python3"
  },
  "language_info": {
   "codemirror_mode": {
    "name": "ipython",
    "version": 3
   },
   "file_extension": ".py",
   "mimetype": "text/x-python",
   "name": "python",
   "nbconvert_exporter": "python",
   "pygments_lexer": "ipython3",
   "version": "3.11.4"
  }
 },
 "nbformat": 4,
 "nbformat_minor": 2
}
