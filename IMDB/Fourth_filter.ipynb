{
 "cells": [
  {
   "cell_type": "code",
   "execution_count": 5,
   "metadata": {},
   "outputs": [
    {
     "ename": "MemoryError",
     "evalue": "Unable to allocate 7.72 GiB for an array with shape (32185, 32185) and data type float64",
     "output_type": "error",
     "traceback": [
      "\u001b[1;31m---------------------------------------------------------------------------\u001b[0m",
      "\u001b[1;31mMemoryError\u001b[0m                               Traceback (most recent call last)",
      "\u001b[1;32md:\\languages\\machine_learning_project\\IMDB\\Fourth_filter.ipynb Cell 1\u001b[0m line \u001b[0;36m1\n\u001b[0;32m     <a href='vscode-notebook-cell:/d%3A/languages/machine_learning_project/IMDB/Fourth_filter.ipynb#W0sZmlsZQ%3D%3D?line=9'>10</a>\u001b[0m vectors \u001b[39m=\u001b[39m cv\u001b[39m.\u001b[39mfit_transform(ds[\u001b[39m\"\u001b[39m\u001b[39mtags\u001b[39m\u001b[39m\"\u001b[39m])\u001b[39m.\u001b[39mtoarray()\n\u001b[0;32m     <a href='vscode-notebook-cell:/d%3A/languages/machine_learning_project/IMDB/Fourth_filter.ipynb#W0sZmlsZQ%3D%3D?line=11'>12</a>\u001b[0m \u001b[39m# cv.get_feature_names_out().tolist()\u001b[39;00m\n\u001b[1;32m---> <a href='vscode-notebook-cell:/d%3A/languages/machine_learning_project/IMDB/Fourth_filter.ipynb#W0sZmlsZQ%3D%3D?line=13'>14</a>\u001b[0m similarity \u001b[39m=\u001b[39m cosine_similarity(vectors)\n\u001b[0;32m     <a href='vscode-notebook-cell:/d%3A/languages/machine_learning_project/IMDB/Fourth_filter.ipynb#W0sZmlsZQ%3D%3D?line=14'>15</a>\u001b[0m temp \u001b[39m=\u001b[39m pd\u001b[39m.\u001b[39mDataFrame()\n\u001b[0;32m     <a href='vscode-notebook-cell:/d%3A/languages/machine_learning_project/IMDB/Fourth_filter.ipynb#W0sZmlsZQ%3D%3D?line=15'>16</a>\u001b[0m temp[\u001b[39m\"\u001b[39m\u001b[39mtitle\u001b[39m\u001b[39m\"\u001b[39m] \u001b[39m=\u001b[39m ds[\u001b[39m\"\u001b[39m\u001b[39mtitle\u001b[39m\u001b[39m\"\u001b[39m]\u001b[39m.\u001b[39mstr\u001b[39m.\u001b[39mlower()\u001b[39m.\u001b[39mstr\u001b[39m.\u001b[39msplit()\n",
      "File \u001b[1;32mc:\\Users\\mihir\\anaconda3\\Lib\\site-packages\\sklearn\\utils\\_param_validation.py:211\u001b[0m, in \u001b[0;36mvalidate_params.<locals>.decorator.<locals>.wrapper\u001b[1;34m(*args, **kwargs)\u001b[0m\n\u001b[0;32m    205\u001b[0m \u001b[39mtry\u001b[39;00m:\n\u001b[0;32m    206\u001b[0m     \u001b[39mwith\u001b[39;00m config_context(\n\u001b[0;32m    207\u001b[0m         skip_parameter_validation\u001b[39m=\u001b[39m(\n\u001b[0;32m    208\u001b[0m             prefer_skip_nested_validation \u001b[39mor\u001b[39;00m global_skip_validation\n\u001b[0;32m    209\u001b[0m         )\n\u001b[0;32m    210\u001b[0m     ):\n\u001b[1;32m--> 211\u001b[0m         \u001b[39mreturn\u001b[39;00m func(\u001b[39m*\u001b[39margs, \u001b[39m*\u001b[39m\u001b[39m*\u001b[39mkwargs)\n\u001b[0;32m    212\u001b[0m \u001b[39mexcept\u001b[39;00m InvalidParameterError \u001b[39mas\u001b[39;00m e:\n\u001b[0;32m    213\u001b[0m     \u001b[39m# When the function is just a wrapper around an estimator, we allow\u001b[39;00m\n\u001b[0;32m    214\u001b[0m     \u001b[39m# the function to delegate validation to the estimator, but we replace\u001b[39;00m\n\u001b[0;32m    215\u001b[0m     \u001b[39m# the name of the estimator by the name of the function in the error\u001b[39;00m\n\u001b[0;32m    216\u001b[0m     \u001b[39m# message to avoid confusion.\u001b[39;00m\n\u001b[0;32m    217\u001b[0m     msg \u001b[39m=\u001b[39m re\u001b[39m.\u001b[39msub(\n\u001b[0;32m    218\u001b[0m         \u001b[39mr\u001b[39m\u001b[39m\"\u001b[39m\u001b[39mparameter of \u001b[39m\u001b[39m\\\u001b[39m\u001b[39mw+ must be\u001b[39m\u001b[39m\"\u001b[39m,\n\u001b[0;32m    219\u001b[0m         \u001b[39mf\u001b[39m\u001b[39m\"\u001b[39m\u001b[39mparameter of \u001b[39m\u001b[39m{\u001b[39;00mfunc\u001b[39m.\u001b[39m\u001b[39m__qualname__\u001b[39m\u001b[39m}\u001b[39;00m\u001b[39m must be\u001b[39m\u001b[39m\"\u001b[39m,\n\u001b[0;32m    220\u001b[0m         \u001b[39mstr\u001b[39m(e),\n\u001b[0;32m    221\u001b[0m     )\n",
      "File \u001b[1;32mc:\\Users\\mihir\\anaconda3\\Lib\\site-packages\\sklearn\\metrics\\pairwise.py:1585\u001b[0m, in \u001b[0;36mcosine_similarity\u001b[1;34m(X, Y, dense_output)\u001b[0m\n\u001b[0;32m   1582\u001b[0m \u001b[39melse\u001b[39;00m:\n\u001b[0;32m   1583\u001b[0m     Y_normalized \u001b[39m=\u001b[39m normalize(Y, copy\u001b[39m=\u001b[39m\u001b[39mTrue\u001b[39;00m)\n\u001b[1;32m-> 1585\u001b[0m K \u001b[39m=\u001b[39m safe_sparse_dot(X_normalized, Y_normalized\u001b[39m.\u001b[39mT, dense_output\u001b[39m=\u001b[39mdense_output)\n\u001b[0;32m   1587\u001b[0m \u001b[39mreturn\u001b[39;00m K\n",
      "File \u001b[1;32mc:\\Users\\mihir\\anaconda3\\Lib\\site-packages\\sklearn\\utils\\extmath.py:193\u001b[0m, in \u001b[0;36msafe_sparse_dot\u001b[1;34m(a, b, dense_output)\u001b[0m\n\u001b[0;32m    191\u001b[0m         ret \u001b[39m=\u001b[39m np\u001b[39m.\u001b[39mdot(a, b)\n\u001b[0;32m    192\u001b[0m \u001b[39melse\u001b[39;00m:\n\u001b[1;32m--> 193\u001b[0m     ret \u001b[39m=\u001b[39m a \u001b[39m@\u001b[39m b\n\u001b[0;32m    195\u001b[0m \u001b[39mif\u001b[39;00m (\n\u001b[0;32m    196\u001b[0m     sparse\u001b[39m.\u001b[39missparse(a)\n\u001b[0;32m    197\u001b[0m     \u001b[39mand\u001b[39;00m sparse\u001b[39m.\u001b[39missparse(b)\n\u001b[0;32m    198\u001b[0m     \u001b[39mand\u001b[39;00m dense_output\n\u001b[0;32m    199\u001b[0m     \u001b[39mand\u001b[39;00m \u001b[39mhasattr\u001b[39m(ret, \u001b[39m\"\u001b[39m\u001b[39mtoarray\u001b[39m\u001b[39m\"\u001b[39m)\n\u001b[0;32m    200\u001b[0m ):\n\u001b[0;32m    201\u001b[0m     \u001b[39mreturn\u001b[39;00m ret\u001b[39m.\u001b[39mtoarray()\n",
      "\u001b[1;31mMemoryError\u001b[0m: Unable to allocate 7.72 GiB for an array with shape (32185, 32185) and data type float64"
     ]
    }
   ],
   "source": [
    "import pandas as pd\n",
    "from sklearn.metrics.pairwise import cosine_similarity\n",
    "from sklearn.feature_extraction.text import CountVectorizer\n",
    "\n",
    "ds = pd.read_csv(\"perfect_datasets/perfect_dataset_v3.csv\")\n",
    "ds_overview = pd.read_csv(\"perfect_datasets/perfect_dataset_v1_overview.csv\")\n",
    "\n",
    "cv = CountVectorizer(max_features=5000, stop_words=\"english\")\n",
    "\n",
    "vectors = cv.fit_transform(ds[\"tags\"]).toarray()\n",
    "\n",
    "# cv.get_feature_names_out().tolist()\n",
    "\n",
    "similarity = cosine_similarity(vectors)\n",
    "temp = pd.DataFrame()\n",
    "temp[\"title\"] = ds[\"title\"].str.lower().str.split()\n",
    "temp[\"title\"] = temp[\"title\"].apply(lambda x: \" \".join(x))\n",
    "temp[\"title\"] = temp[\"title\"].apply(lambda x: x.replace(\":\", \"\"))\n",
    "\n",
    "movie_sugg = []\n",
    "\n",
    "c = 0\n",
    "\n",
    "def recommend(movie):\n",
    "    global c\n",
    "    # if(ds[(ds[\"title\"].str.lower()).str.startswith(movie.lower())].empty):\n",
    "    if(ds[ds[\"title\"].str.lower() == movie.lower()].empty):\n",
    "        for i in temp[\"title\"]:\n",
    "            if(movie.lower() in i) and c==0:\n",
    "                movie_sugg.append(ds.iloc[temp[temp[\"title\"] == i].index[0]].title)\n",
    "        print(\"did you mean: \", movie_sugg, end=\"\\n\\n\") if c==0 else print(\"No movie found\")\n",
    "        c = 1\n",
    "        return\n",
    "    elif(movie == \"\"):\n",
    "        print(\"Enter a movie name\")\n",
    "        return\n",
    "    # index = ds[(ds[\"title\"].str.lower()).str.startswith(movie.lower())].index[0]\n",
    "    index = ds[(ds[\"title\"].str.lower()) == movie.lower()].index[0]\n",
    "    distance = similarity[index]\n",
    "    movie_list = sorted(list(enumerate(distance)), reverse=True, key=lambda x: x[1])[1:6]\n",
    "\n",
    "    for i in movie_list:\n",
    "        print(\"Movie Id: \" + str(ds.iloc[i[0]].imdb_id))\n",
    "        print(\"Movie Name: \" + ds.iloc[i[0]].title)\n",
    "        print(\"Movie Name: \" + ds_overview.iloc[i[0]].overview, end=\"\\n\\n\")\n",
    "    \n",
    "inp = str(input(\"Enter the movie name: \"))\n",
    "recommend(inp)\n",
    "\n",
    "if movie_sugg != []:\n",
    "        movie_re_input = str(input(\"Enter the movie name: \"))\n",
    "        recommend(movie_re_input)"
   ]
  }
 ],
 "metadata": {
  "kernelspec": {
   "display_name": "base",
   "language": "python",
   "name": "python3"
  },
  "language_info": {
   "codemirror_mode": {
    "name": "ipython",
    "version": 3
   },
   "file_extension": ".py",
   "mimetype": "text/x-python",
   "name": "python",
   "nbconvert_exporter": "python",
   "pygments_lexer": "ipython3",
   "version": "3.11.4"
  }
 },
 "nbformat": 4,
 "nbformat_minor": 2
}
