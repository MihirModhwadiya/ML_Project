{
 "cells": [
  {
   "cell_type": "code",
   "execution_count": 40,
   "metadata": {},
   "outputs": [
    {
     "name": "stdout",
     "output_type": "stream",
     "text": [
      "did you mean:  ['The Dark Knight Rises']\n",
      "\n",
      "Movie Id: 155\n",
      "Movie Name: The Dark Knight\n",
      "Movie Name: Batman raises the stakes in his war on crime. With the help of Lt. Jim Gordon and District Attorney Harvey Dent, Batman sets out to dismantle the remaining criminal organizations that plague the streets. The partnership proves to be effective, but they soon find themselves prey to a reign of chaos unleashed by a rising criminal mastermind known to the terrified citizens of Gotham as the Joker.\n",
      "\n",
      "Movie Id: 272\n",
      "Movie Name: Batman Begins\n",
      "Movie Name: Driven by tragedy, billionaire Bruce Wayne dedicates his life to uncovering and defeating the corruption that plagues his home, Gotham City.  Unable to work within the system, he instead creates a new identity, a symbol of fear for the criminal underworld - The Batman.\n",
      "\n",
      "Movie Id: 2661\n",
      "Movie Name: Batman\n",
      "Movie Name: The Dark Knight of Gotham City begins his war on crime with his first major enemy being the clownishly homicidal Joker, who has seized control of Gotham's underworld.\n",
      "\n",
      "Movie Id: 268\n",
      "Movie Name: Batman\n",
      "Movie Name: The Dark Knight of Gotham City begins his war on crime with his first major enemy being the clownishly homicidal Joker, who has seized control of Gotham's underworld.\n",
      "\n",
      "Movie Id: 414\n",
      "Movie Name: Batman Forever\n",
      "Movie Name: The Dark Knight of Gotham City confronts a dastardly duo: Two-Face and the Riddler. Formerly District Attorney Harvey Dent, Two-Face believes Batman caused the courtroom accident which left him disfigured on one side. And Edward Nygma, computer-genius and former employee of millionaire Bruce Wayne, is out to get the philanthropist; as The Riddler. Former circus acrobat Dick Grayson, his family killed by Two-Face, becomes Wayne's ward and Batman's new partner Robin.\n",
      "\n"
     ]
    }
   ],
   "source": [
    "import pandas as pd\n",
    "from sklearn.metrics.pairwise import cosine_similarity\n",
    "from sklearn.feature_extraction.text import CountVectorizer\n",
    "\n",
    "ds = pd.read_csv(\"perfect_datasets/perfect_dataset_v3.csv\")\n",
    "ds_overview = pd.read_csv(\"perfect_datasets/perfect_dataset_v1.csv\")\n",
    "\n",
    "cv = CountVectorizer(max_features=5000, stop_words=\"english\")\n",
    "\n",
    "vectors = cv.fit_transform(ds[\"tags\"]).toarray()\n",
    "\n",
    "# cv.get_feature_names_out().tolist()\n",
    "\n",
    "similarity = cosine_similarity(vectors)\n",
    "temp = pd.DataFrame()\n",
    "temp[\"title\"] = ds[\"title\"].str.lower().str.split()\n",
    "temp[\"title\"] = temp[\"title\"].apply(lambda x: \" \".join(x))\n",
    "temp[\"title\"] = temp[\"title\"].apply(lambda x: x.replace(\":\", \"\"))\n",
    "\n",
    "movie_sugg = []\n",
    "\n",
    "c = 0\n",
    "\n",
    "def recommend(movie):\n",
    "    global c\n",
    "    # if(ds[(ds[\"title\"].str.lower()).str.startswith(movie.lower())].empty):\n",
    "    if(ds[ds[\"title\"].str.lower() == movie.lower()].empty):\n",
    "        for i in temp[\"title\"]:\n",
    "            if(movie.lower() in i) and c==0:\n",
    "                movie_sugg.append(ds.iloc[temp[temp[\"title\"] == i].index[0]].title)\n",
    "        print(\"did you mean: \", movie_sugg, end=\"\\n\\n\") if c==0 else print(\"No movie found\")\n",
    "        c = 1\n",
    "        return\n",
    "    elif(movie == \"\"):\n",
    "        print(\"Enter a movie name\")\n",
    "        return\n",
    "    # index = ds[(ds[\"title\"].str.lower()).str.startswith(movie.lower())].index[0]\n",
    "    index = ds[(ds[\"title\"].str.lower()) == movie.lower()].index[0]\n",
    "    distance = similarity[index]\n",
    "    movie_list = sorted(list(enumerate(distance)), reverse=True, key=lambda x: x[1])[1:6]\n",
    "\n",
    "    for i in movie_list:\n",
    "        print(\"Movie Id: \" + str(ds.iloc[i[0]].movie_id))\n",
    "        print(\"Movie Name: \" + ds.iloc[i[0]].title)\n",
    "        print(\"Movie Name: \" + ds_overview.iloc[i[0]].overview, end=\"\\n\\n\")\n",
    "    \n",
    "inp = str(input(\"Enter the movie name: \"))\n",
    "recommend(inp)\n",
    "\n",
    "if movie_sugg != []:\n",
    "        movie_re_input = str(input(\"Enter the movie name: \"))\n",
    "        recommend(movie_re_input)"
   ]
  }
 ],
 "metadata": {
  "kernelspec": {
   "display_name": "base",
   "language": "python",
   "name": "python3"
  },
  "language_info": {
   "codemirror_mode": {
    "name": "ipython",
    "version": 3
   },
   "file_extension": ".py",
   "mimetype": "text/x-python",
   "name": "python",
   "nbconvert_exporter": "python",
   "pygments_lexer": "ipython3",
   "version": "3.11.4"
  }
 },
 "nbformat": 4,
 "nbformat_minor": 2
}
