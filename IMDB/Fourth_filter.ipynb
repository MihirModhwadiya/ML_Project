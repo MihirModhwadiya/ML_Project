{
 "cells": [
  {
   "cell_type": "code",
   "execution_count": 46,
   "metadata": {},
   "outputs": [
    {
     "name": "stdout",
     "output_type": "stream",
     "text": [
      "Movie Id: 49538\n",
      "Movie Name: X-Men: First Class\n",
      "Movie Name: Before Charles Xavier and Erik Lensherr took the names Professor X and Magneto, they were two young men discovering their powers for the first time. Before they were arch-enemies, they were closest of friends, working together with other mutants (some familiar, some new), to stop the greatest threat the world has ever known.\n",
      "\n",
      "Movie Id: 127585\n",
      "Movie Name: X-Men: Days of Future Past\n",
      "Movie Name: The ultimate X-Men ensemble fights a war for the survival of the species across two time periods as they join forces with their younger selves in an epic battle that must change the past – to save our future.\n",
      "\n",
      "Movie Id: 36657\n",
      "Movie Name: X-Men\n",
      "Movie Name: Two mutants, Rogue and Wolverine, come to a private academy for their kind whose resident superhero team, the X-Men, must oppose a terrorist organization with similar powers.\n",
      "\n",
      "Movie Id: 76170\n",
      "Movie Name: The Wolverine\n",
      "Movie Name: Wolverine faces his ultimate nemesis - and tests of his physical, emotional, and mortal limits - in a life-changing voyage to modern-day Japan.\n",
      "\n",
      "Movie Id: 36668\n",
      "Movie Name: X-Men: The Last Stand\n",
      "Movie Name: When a cure is found to treat mutations, lines are drawn amongst the X-Men and The Brotherhood, a band of powerful mutants organized under Xavier's former ally, Magneto.\n",
      "\n"
     ]
    }
   ],
   "source": [
    "import pandas as pd\n",
    "from sklearn.metrics.pairwise import cosine_similarity\n",
    "from sklearn.feature_extraction.text import CountVectorizer\n",
    "\n",
    "ds = pd.read_csv(\"perfect_datasets/perfect_dataset_v3.csv\")\n",
    "ds_overview = pd.read_csv(\"perfect_datasets/perfect_dataset_v1.csv\")\n",
    "\n",
    "cv = CountVectorizer(max_features=5000, stop_words=\"english\")\n",
    "\n",
    "vectors = cv.fit_transform(ds[\"tags\"]).toarray()\n",
    "\n",
    "# cv.get_feature_names_out().tolist()\n",
    "\n",
    "similarity = cosine_similarity(vectors)\n",
    "\n",
    "def recommend(movie):\n",
    "    index = ds[ds[\"title\"].str.lower() == movie.lower()].index[0]\n",
    "    distance = similarity[index]\n",
    "    movie = sorted(list(enumerate(distance)), reverse=True, key=lambda x: x[1])[1:6]\n",
    "\n",
    "    for i in movie:\n",
    "        print(\"Movie Id: \" + str(ds.iloc[i[0]].movie_id))\n",
    "        print(\"Movie Name: \" + ds.iloc[i[0]].title)\n",
    "        print(\"Movie Name: \" + ds_overview.iloc[i[0]].overview, end=\"\\n\\n\")\n",
    "\n",
    "recommend(\"x-men: apocalypse\")"
   ]
  }
 ],
 "metadata": {
  "kernelspec": {
   "display_name": "base",
   "language": "python",
   "name": "python3"
  },
  "language_info": {
   "codemirror_mode": {
    "name": "ipython",
    "version": 3
   },
   "file_extension": ".py",
   "mimetype": "text/x-python",
   "name": "python",
   "nbconvert_exporter": "python",
   "pygments_lexer": "ipython3",
   "version": "3.11.4"
  }
 },
 "nbformat": 4,
 "nbformat_minor": 2
}
