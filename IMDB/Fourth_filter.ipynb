{
 "cells": [
  {
   "cell_type": "code",
   "execution_count": 1,
   "metadata": {},
   "outputs": [],
   "source": [
    "import pandas as pd\n",
    "from sklearn.metrics.pairwise import cosine_similarity\n",
    "from sklearn.feature_extraction.text import CountVectorizer\n",
    "\n",
    "ds = pd.read_csv(\"perfect_datasets/perfect_dataset_v3.csv\")\n",
    "ds_overview = pd.read_csv(\"perfect_datasets/perfect_dataset_v2_overview.csv\")\n",
    "\n",
    "cv = CountVectorizer(max_features=5000, stop_words=\"english\")\n",
    "\n",
    "vectors = cv.fit_transform(ds[\"tags\"]).toarray()\n",
    "\n",
    "similarity = cosine_similarity(vectors)\n",
    "\n",
    "pd.DataFrame(similarity).to_csv(\"./perfect_datasets/similarity.csv\")\n",
    "\n",
    "# temp = pd.DataFrame()\n",
    "# temp[\"title\"] = ds[\"title\"].str.lower().str.split()\n",
    "# temp[\"title\"] = temp[\"title\"].apply(lambda x: \" \".join(x))\n",
    "# temp[\"title\"] = temp[\"title\"].apply(lambda x: x.replace(\":\", \"\"))\n",
    "\n",
    "# movie_sugg = []\n",
    "\n",
    "# c = 0\n",
    "\n",
    "# def recommend(movie):\n",
    "#     global c\n",
    "#     # if(ds[(ds[\"title\"].str.lower()).str.startswith(movie.lower())].empty):\n",
    "#     if(ds[ds[\"title\"].str.lower() == movie.lower()].empty):\n",
    "#         for i in temp[\"title\"]:\n",
    "#             if(movie.lower() in i) and c==0:\n",
    "#                 movie_sugg.append(ds.iloc[temp[temp[\"title\"] == i].index[0]].title)\n",
    "#         print(\"did you mean: \", movie_sugg, end=\"\\n\\n\") if c==0 else print(\"No movie found\")\n",
    "#         c = 1\n",
    "#         return\n",
    "#     elif(movie == \"\"):\n",
    "#         print(\"Enter a movie name\")\n",
    "#         return\n",
    "#     # index = ds[(ds[\"title\"].str.lower()).str.startswith(movie.lower())].index[0]\n",
    "#     index = ds[(ds[\"title\"].str.lower()) == movie.lower()].index[0]\n",
    "#     distance = similarity[index]\n",
    "#     movie_list = sorted(list(enumerate(distance)), reverse=True, key=lambda x: x[1])[1:6]\n",
    "\n",
    "#     for i in movie_list:\n",
    "#         print(\"Movie Id: \" + str(ds.iloc[i[0]].imdb_id))\n",
    "#         print(\"Movie Name: \" + ds.iloc[i[0]].title)\n",
    "#         print(\"Movie Name: \" + ds_overview.iloc[i[0]].overview, end=\"\\n\\n\")\n",
    "    \n",
    "# inp = str(input(\"Enter the movie name: \"))\n",
    "# recommend(inp)\n",
    "\n",
    "# if movie_sugg != []:\n",
    "#         movie_re_input = str(input(\"Enter the movie name: \"))\n",
    "#         recommend(movie_re_input)\n"
   ]
  }
 ],
 "metadata": {
  "kernelspec": {
   "display_name": "base",
   "language": "python",
   "name": "python3"
  },
  "language_info": {
   "codemirror_mode": {
    "name": "ipython",
    "version": 3
   },
   "file_extension": ".py",
   "mimetype": "text/x-python",
   "name": "python",
   "nbconvert_exporter": "python",
   "pygments_lexer": "ipython3",
   "version": "3.11.4"
  }
 },
 "nbformat": 4,
 "nbformat_minor": 2
}
