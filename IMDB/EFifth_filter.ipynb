{
 "cells": [
  {
   "cell_type": "markdown",
   "metadata": {},
   "source": [
    "# Main"
   ]
  },
  {
   "cell_type": "code",
   "execution_count": 1,
   "metadata": {},
   "outputs": [],
   "source": [
    "import pandas as pd\n",
    "import random"
   ]
  },
  {
   "cell_type": "code",
   "execution_count": 7,
   "metadata": {},
   "outputs": [],
   "source": [
    "ds = pd.read_csv(\"./perfect_datasets/perfect_dataset_v2.csv\")\n"
   ]
  },
  {
   "cell_type": "code",
   "execution_count": 8,
   "metadata": {},
   "outputs": [],
   "source": [
    "ds_overview = pd.read_csv(\"./perfect_datasets/perfect_dataset_v1_overview.csv\")\n"
   ]
  },
  {
   "cell_type": "code",
   "execution_count": 9,
   "metadata": {},
   "outputs": [],
   "source": [
    "similarity = pd.read_csv(\"./perfect_datasets/perfect_datasets_v4.csv\")\n"
   ]
  },
  {
   "cell_type": "code",
   "execution_count": 10,
   "metadata": {},
   "outputs": [],
   "source": [
    "temp = pd.DataFrame()\n",
    "temp[\"title\"] = similarity[\"name\"].str.lower().str.split()\n",
    "temp[\"title\"] = similarity[\"name\"].apply(lambda x: x.replace(\":\", \" :\"))\n"
   ]
  },
  {
   "cell_type": "code",
   "execution_count": 11,
   "metadata": {},
   "outputs": [],
   "source": [
    "\n",
    "for_sugg = pd.DataFrame()\n",
    "for_sugg[\"title\"] = similarity[\"name\"].str.lower().str.split()\n",
    "for_sugg[\"title\"] = similarity[\"name\"].apply(lambda x: x.replace(\"\", \"\"))\n"
   ]
  },
  {
   "cell_type": "code",
   "execution_count": 12,
   "metadata": {},
   "outputs": [],
   "source": [
    "\n",
    "movie_sugg = []\n",
    "c = 0\n",
    "\n",
    "def recommend(movie):\n",
    "    global c\n",
    "    global movie_sugg\n",
    "    if(ds[ds[\"title\"].str.lower() == movie.lower()].empty):\n",
    "        for i in temp[\"title\"]:\n",
    "            tmp = i.split(\",\")\n",
    "            movi = tmp[0].lower().split()\n",
    "            if(movie.lower() in movi) and c==0:\n",
    "                movie_sugg.append(tmp[0].replace(\" :\", \":\"))\n",
    "            if(movie.lower() in movi) and c==1:\n",
    "                movie_sugg = (tmp[0].replace(\" :\", \":\"))\n",
    "        print(\"did you mean: \", movie_sugg, end=\"\\n\\n\") if c<=1 else print(\"No movie found\")\n",
    "        c += 1\n",
    "        return\n",
    "    elif(movie == \"\"):\n",
    "        print(\"Enter a movie name\")\n",
    "        return\n",
    "    \n",
    "    for_sugg[\"title\"] = for_sugg[\"title\"].apply(lambda x: x.split(\",\"))\n",
    "    \n",
    "    index = ds[(ds[\"title\"].str.lower()) == movie.lower()].index[0]\n",
    "\n",
    "    moviess = for_sugg[\"title\"][index][1:]\n",
    "    rndm = []\n",
    "    for i in range(0,5):\n",
    "        rd = random.randint(1,10)\n",
    "        rndm.append(rd if rd not in rndm else random.randint(1,10))\n",
    "    for i in rndm:\n",
    "        index2 = ds[(ds[\"title\"].str.lower()) == moviess[i].lower()].index[0]\n",
    "        print(\"Movie Id:\",ds.iloc[index2][\"imdb_id\"])\n",
    "        print(\"Movie Name:\",moviess[i].replace(\" :\", \":\"))\n",
    "        print(\"Movie Overview:\",ds_overview.iloc[index2][\"overview\"], end=\"\\n\\n\")\n"
   ]
  },
  {
   "cell_type": "code",
   "execution_count": 13,
   "metadata": {},
   "outputs": [
    {
     "name": "stdout",
     "output_type": "stream",
     "text": [
      "Movie Id: tt0053242\n",
      "Movie Name: Sapphire\n",
      "Movie Overview: Two Scotland Yard detectives (Nigel Patrick and Michael Craig) investigate the murder of a young woman of mixed race who had been passing for white. As they interview a spate of suspects -- including the girl's white boyfriend and his disapproving parents -- the investigators wade through a stubbornly entrenched sludge of racism and bigotry. Director Basil Dearden won a British Academy Award for his deft, sensitive hand at the helm.\n",
      "\n",
      "Movie Id: tt0286493\n",
      "Movie Name: The Badge\n",
      "Movie Overview: A sheriff (Thornton) begins an investigation into the death of a local transsexual after hearing that high ranking politicians may have been involved. Although he is homophobic, his investigation causes him to be rejected by others, forcing him to seek help from the people he once despised.\n",
      "\n",
      "Movie Id: tt0053242\n",
      "Movie Name: Sapphire\n",
      "Movie Overview: Two Scotland Yard detectives (Nigel Patrick and Michael Craig) investigate the murder of a young woman of mixed race who had been passing for white. As they interview a spate of suspects -- including the girl's white boyfriend and his disapproving parents -- the investigators wade through a stubbornly entrenched sludge of racism and bigotry. Director Basil Dearden won a British Academy Award for his deft, sensitive hand at the helm.\n",
      "\n",
      "Movie Id: tt3714720\n",
      "Movie Name: The Hollars\n",
      "Movie Overview: Aspiring New York City artist, John Hollar returns to his Middle America hometown on the eve of his mother’s brain surgery. Joined by his girlfriend, eight months pregnant with their first child, John is forced to navigate the crazy world he left behind.\n",
      "\n",
      "Movie Id: tt0028670\n",
      "Movie Name: Bulldog Drummond's Revenge\n",
      "Movie Overview: The dapper British sleuth (John Howard) beats a Scotland Yard colonel (John Barrymore) to the stolen formula for a new bomb.\n",
      "\n"
     ]
    }
   ],
   "source": [
    "\n",
    "inp = str(input(\"Enter the movie name: \"))\n",
    "recommend(inp)\n",
    "\n",
    "if movie_sugg != []:\n",
    "        movie_re_input = str(input(\"Enter the movie name: \"))\n",
    "        recommend(movie_re_input)\n"
   ]
  },
  {
   "cell_type": "markdown",
   "metadata": {},
   "source": [
    "## Chintan TfidfVectorizer"
   ]
  },
  {
   "cell_type": "code",
   "execution_count": 8,
   "metadata": {},
   "outputs": [
    {
     "name": "stdout",
     "output_type": "stream",
     "text": [
      "Recommended Movies:\n",
      "1       Pirates of the Caribbean: At World's End\n",
      "2                                        Spectre\n",
      "3                          The Dark Knight Rises\n",
      "4                                    John Carter\n",
      "5                                   Spider-Man 3\n",
      "                          ...                   \n",
      "4504                                      Cavite\n",
      "4505                                   Newlyweds\n",
      "4506                   Signed, Sealed, Delivered\n",
      "4507                            Shanghai Calling\n",
      "4508                           My Date with Drew\n",
      "Name: title, Length: 4508, dtype: object\n"
     ]
    }
   ],
   "source": [
    "import pandas as pd\n",
    "from sklearn.feature_extraction.text import TfidfVectorizer\n",
    "from sklearn.metrics.pairwise import linear_kernel\n",
    "from difflib import get_close_matches  # Python's difflib module for finding close matches\n",
    "\n",
    "# Load data\n",
    "ds = pd.read_csv(\"./perfect_datasets/perfect_dataset_v2.csv\")\n",
    "\n",
    "# Create a TF-IDF vectorizer\n",
    "tfidf_vectorizer = TfidfVectorizer(stop_words='english')\n",
    "tfidf_matrix = tfidf_vectorizer.fit_transform(ds['title'])\n",
    "\n",
    "# Calculate the cosine similarity between movies\n",
    "cosine_sim = linear_kernel(tfidf_matrix, tfidf_matrix)\n",
    "\n",
    "def find_similar_movies(movie_name):\n",
    "    similar_movies = []\n",
    "    for title in ds['title']:\n",
    "        similar_movies.extend(get_close_matches(movie_name, [title], n=5, cutoff=0.6))\n",
    "    return list(set(similar_movies))\n",
    "\n",
    "def recommend(movie_name):\n",
    "    movie_name = movie_name.lower()\n",
    "    \n",
    "    # Check if the exact movie name exists\n",
    "    exact_match = ds[ds['title'].str.lower() == movie_name]\n",
    "    \n",
    "    if not exact_match.empty:\n",
    "        idx = exact_match.index[0]\n",
    "        sim_scores = list(enumerate(cosine_sim[idx]))\n",
    "        # sim_scores = sorted(sim_scores, key=lambda x: x[1], reverse=True)\n",
    "        sim_scores = sim_scores[1:]  # Get the top 5 most similar movies\n",
    "        movie_indices = [i[0] for i in sim_scores]\n",
    "        recommended_movies = ds['title'].iloc[movie_indices]\n",
    "        print(\"Recommended Movies:\")\n",
    "        print(recommended_movies)\n",
    "    else:\n",
    "        print(\"Movie not found. Did you mean:\")\n",
    "        similar_movies = find_similar_movies(movie_name)\n",
    "        print(similar_movies)\n",
    "\n",
    "# User input\n",
    "inp = input(\"Enter a movie name: \")\n",
    "recommend(inp)\n"
   ]
  }
 ],
 "metadata": {
  "kernelspec": {
   "display_name": "base",
   "language": "python",
   "name": "python3"
  },
  "language_info": {
   "codemirror_mode": {
    "name": "ipython",
    "version": 3
   },
   "file_extension": ".py",
   "mimetype": "text/x-python",
   "name": "python",
   "nbconvert_exporter": "python",
   "pygments_lexer": "ipython3",
   "version": "3.11.4"
  }
 },
 "nbformat": 4,
 "nbformat_minor": 2
}
