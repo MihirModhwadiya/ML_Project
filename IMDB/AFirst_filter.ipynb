{
 "cells": [
  {
   "cell_type": "code",
   "execution_count": 2,
   "metadata": {},
   "outputs": [],
   "source": [
    "import pandas as pd\n"
   ]
  },
  {
   "cell_type": "code",
   "execution_count": 3,
   "metadata": {},
   "outputs": [
    {
     "name": "stderr",
     "output_type": "stream",
     "text": [
      "C:\\Users\\mihir\\AppData\\Local\\Temp\\ipykernel_16168\\3640033729.py:1: DtypeWarning: Columns (10) have mixed types. Specify dtype option on import or set low_memory=False.\n",
      "  movie_info = pd.read_csv('./raw_datasets/movies_metadata.csv')\n"
     ]
    }
   ],
   "source": [
    "movie_info = pd.read_csv('./raw_datasets/movies_metadata.csv')\n",
    "keywords = pd.read_csv('raw_datasets/keywords.csv')\n",
    "credits = pd.read_csv('C:/Users/mihir/Downloads/credits/credits.csv')"
   ]
  },
  {
   "cell_type": "code",
   "execution_count": 4,
   "metadata": {},
   "outputs": [],
   "source": [
    "\n",
    "movie_info = pd.concat([movie_info, keywords, credits], axis=1)\n",
    "\n",
    "ds = movie_info[[\"imdb_id\", \"title\", \"genres\", \"production_companies\", \"original_language\", \"overview\", \"keywords\", \"cast\", \"crew\"]]\n",
    "\n",
    "ds = ds[ds[\"original_language\"] == \"en\"]\n",
    "ds.drop(columns=\"original_language\", inplace=True)\n",
    "\n",
    "ds.dropna(inplace=True)"
   ]
  },
  {
   "cell_type": "code",
   "execution_count": 5,
   "metadata": {},
   "outputs": [],
   "source": [
    "\n",
    "ds.to_csv(\"D:/DATA_Sets/perfect_dataset_v1.csv\", index=False)\n",
    "ds[\"overview\"].to_csv(\"./perfect_datasets/perfect_dataset_v1_overview.csv\")"
   ]
  }
 ],
 "metadata": {
  "kernelspec": {
   "display_name": "base",
   "language": "python",
   "name": "python3"
  },
  "language_info": {
   "codemirror_mode": {
    "name": "ipython",
    "version": 3
   },
   "file_extension": ".py",
   "mimetype": "text/x-python",
   "name": "python",
   "nbconvert_exporter": "python",
   "pygments_lexer": "ipython3",
   "version": "3.11.4"
  }
 },
 "nbformat": 4,
 "nbformat_minor": 2
}
