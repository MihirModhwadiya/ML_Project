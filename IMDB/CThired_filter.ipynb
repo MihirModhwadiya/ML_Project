{
 "cells": [
  {
   "cell_type": "code",
   "execution_count": 3,
   "metadata": {},
   "outputs": [],
   "source": [
    "import pandas as pd\n",
    "import ast\n",
    "from nltk.stem.porter import PorterStemmer\n"
   ]
  },
  {
   "cell_type": "code",
   "execution_count": 4,
   "metadata": {},
   "outputs": [],
   "source": [
    "\n",
    "ds = pd.read_csv(\"perfect_datasets/perfect_dataset_v2.csv\")\n",
    "ds_temp = pd.read_csv(\"perfect_datasets/perfect_dataset_v2.csv\")\n"
   ]
  },
  {
   "cell_type": "code",
   "execution_count": 5,
   "metadata": {},
   "outputs": [],
   "source": [
    "\n",
    "ds[\"genres\"] = ds[\"genres\"].apply(lambda x:ast.literal_eval(x))\n",
    "ds[\"keywords\"] = ds[\"keywords\"].apply(lambda x:ast.literal_eval(x))\n",
    "ds[\"production_companies\"] = ds[\"production_companies\"].apply(lambda x:ast.literal_eval(x))\n",
    "ds[\"overview\"] = ds[\"overview\"].apply(lambda x:ast.literal_eval(x))\n",
    "ds[\"cast\"] = ds[\"cast\"].apply(lambda x:ast.literal_eval(x))\n",
    "ds[\"crew\"] = ds[\"crew\"].apply(lambda x:ast.literal_eval(x))\n"
   ]
  },
  {
   "cell_type": "code",
   "execution_count": 6,
   "metadata": {},
   "outputs": [
    {
     "name": "stderr",
     "output_type": "stream",
     "text": [
      "C:\\Users\\mihir\\AppData\\Local\\Temp\\ipykernel_11892\\2022294163.py:7: SettingWithCopyWarning: \n",
      "A value is trying to be set on a copy of a slice from a DataFrame.\n",
      "Try using .loc[row_indexer,col_indexer] = value instead\n",
      "\n",
      "See the caveats in the documentation: https://pandas.pydata.org/pandas-docs/stable/user_guide/indexing.html#returning-a-view-versus-a-copy\n",
      "  ds2[\"tags\"] = ds2[\"tags\"].apply(lambda x:\" \".join(x))\n",
      "C:\\Users\\mihir\\AppData\\Local\\Temp\\ipykernel_11892\\2022294163.py:8: SettingWithCopyWarning: \n",
      "A value is trying to be set on a copy of a slice from a DataFrame.\n",
      "Try using .loc[row_indexer,col_indexer] = value instead\n",
      "\n",
      "See the caveats in the documentation: https://pandas.pydata.org/pandas-docs/stable/user_guide/indexing.html#returning-a-view-versus-a-copy\n",
      "  ds2[\"tags\"] = ds2[\"tags\"].apply(lambda x:x.lower())\n"
     ]
    }
   ],
   "source": [
    "\n",
    "ds_temp[\"title\"] = ds_temp[\"title\"].apply(lambda x:[x])\n",
    "\n",
    "ds['tags'] = ds[\"overview\"] + ds_temp[\"title\"] + ds['genres'] + ds[\"keywords\"] + ds[\"cast\"] + ds[\"crew\"]\n",
    "# ds['tags'] = ds[\"overview\"] + ds_temp[\"genres\"]\n",
    "ds2 = ds[[\"imdb_id\", \"title\", \"tags\"]]\n",
    "\n",
    "ds2[\"tags\"] = ds2[\"tags\"].apply(lambda x:\" \".join(x))\n",
    "ds2[\"tags\"] = ds2[\"tags\"].apply(lambda x:x.lower())\n"
   ]
  },
  {
   "cell_type": "code",
   "execution_count": 7,
   "metadata": {},
   "outputs": [
    {
     "data": {
      "text/plain": [
       "\"led by woody, andy's toys live happily in his room until andy's birthday brings buzz lightyear onto the scene. afraid of losing his place in andy's heart, woody plots against buzz. but when circumstances separate buzz and woody from their owner, the duo eventually learns to put aside their differences. toy story animation comedy family jealousy toy boy friendship friends rivalry boynextdoor newtoy toycomestolife tomhanks timallen donrickles jimvarney wallaceshawn johnratzenberger anniepotts johnmorris erikvondetten lauriemetcalf r.leeermey sarahfreeman pennjillette johnlasseter bonniearnold ralphguggenheim\""
      ]
     },
     "execution_count": 7,
     "metadata": {},
     "output_type": "execute_result"
    }
   ],
   "source": [
    "ds2[\"tags\"][0]"
   ]
  },
  {
   "cell_type": "code",
   "execution_count": 8,
   "metadata": {},
   "outputs": [
    {
     "name": "stderr",
     "output_type": "stream",
     "text": [
      "C:\\Users\\mihir\\AppData\\Local\\Temp\\ipykernel_11892\\3588190508.py:8: SettingWithCopyWarning: \n",
      "A value is trying to be set on a copy of a slice from a DataFrame.\n",
      "Try using .loc[row_indexer,col_indexer] = value instead\n",
      "\n",
      "See the caveats in the documentation: https://pandas.pydata.org/pandas-docs/stable/user_guide/indexing.html#returning-a-view-versus-a-copy\n",
      "  ds2[\"tags\"] = ds2[\"tags\"].apply(stem)\n"
     ]
    }
   ],
   "source": [
    "# removes stem world like [\"people\", \"peoples\", \"people's\"]\n",
    "ps = PorterStemmer()\n",
    "def stem(text):\n",
    "    stemmed_words = []\n",
    "    for i in text.split():\n",
    "        stemmed_words.append(ps.stem(i))\n",
    "    return \" \".join(stemmed_words)\n",
    "ds2[\"tags\"] = ds2[\"tags\"].apply(stem)\n"
   ]
  },
  {
   "cell_type": "code",
   "execution_count": 9,
   "metadata": {},
   "outputs": [],
   "source": [
    "\n",
    "ds2.to_csv(\"perfect_datasets/perfect_dataset_v3.csv\", index=False)"
   ]
  },
  {
   "cell_type": "code",
   "execution_count": 11,
   "metadata": {},
   "outputs": [
    {
     "data": {
      "text/html": [
       "<div>\n",
       "<style scoped>\n",
       "    .dataframe tbody tr th:only-of-type {\n",
       "        vertical-align: middle;\n",
       "    }\n",
       "\n",
       "    .dataframe tbody tr th {\n",
       "        vertical-align: top;\n",
       "    }\n",
       "\n",
       "    .dataframe thead th {\n",
       "        text-align: right;\n",
       "    }\n",
       "</style>\n",
       "<table border=\"1\" class=\"dataframe\">\n",
       "  <thead>\n",
       "    <tr style=\"text-align: right;\">\n",
       "      <th></th>\n",
       "      <th>imdb_id</th>\n",
       "      <th>title</th>\n",
       "      <th>tags</th>\n",
       "    </tr>\n",
       "  </thead>\n",
       "  <tbody>\n",
       "    <tr>\n",
       "      <th>0</th>\n",
       "      <td>tt0114709</td>\n",
       "      <td>Toy Story</td>\n",
       "      <td>led by woody, andy' toy live happili in hi roo...</td>\n",
       "    </tr>\n",
       "    <tr>\n",
       "      <th>1</th>\n",
       "      <td>tt0113497</td>\n",
       "      <td>Jumanji</td>\n",
       "      <td>when sibl judi and peter discov an enchant boa...</td>\n",
       "    </tr>\n",
       "    <tr>\n",
       "      <th>2</th>\n",
       "      <td>tt0113228</td>\n",
       "      <td>Grumpier Old Men</td>\n",
       "      <td>a famili wed reignit the ancient feud between ...</td>\n",
       "    </tr>\n",
       "    <tr>\n",
       "      <th>3</th>\n",
       "      <td>tt0114885</td>\n",
       "      <td>Waiting to Exhale</td>\n",
       "      <td>cheat on, mistreat and step on, the women are ...</td>\n",
       "    </tr>\n",
       "    <tr>\n",
       "      <th>4</th>\n",
       "      <td>tt0113041</td>\n",
       "      <td>Father of the Bride Part II</td>\n",
       "      <td>just when georg bank ha recov from hi daughter...</td>\n",
       "    </tr>\n",
       "    <tr>\n",
       "      <th>...</th>\n",
       "      <td>...</td>\n",
       "      <td>...</td>\n",
       "      <td>...</td>\n",
       "    </tr>\n",
       "    <tr>\n",
       "      <th>32180</th>\n",
       "      <td>tt0112613</td>\n",
       "      <td>Caged Heat 3000</td>\n",
       "      <td>it' the year 3000 ad. the world' most danger w...</td>\n",
       "    </tr>\n",
       "    <tr>\n",
       "      <th>32181</th>\n",
       "      <td>tt0102797</td>\n",
       "      <td>Robin Hood</td>\n",
       "      <td>yet anoth version of the classic epic, with en...</td>\n",
       "    </tr>\n",
       "    <tr>\n",
       "      <th>32182</th>\n",
       "      <td>tt0303758</td>\n",
       "      <td>Betrayal</td>\n",
       "      <td>when one of her hit goe wrong, a profession as...</td>\n",
       "    </tr>\n",
       "    <tr>\n",
       "      <th>32183</th>\n",
       "      <td>tt0008536</td>\n",
       "      <td>Satan Triumphant</td>\n",
       "      <td>in a small town live two brothers, one a minis...</td>\n",
       "    </tr>\n",
       "    <tr>\n",
       "      <th>32184</th>\n",
       "      <td>tt6980792</td>\n",
       "      <td>Queerama</td>\n",
       "      <td>50 year after decriminalis of homosexu in the ...</td>\n",
       "    </tr>\n",
       "  </tbody>\n",
       "</table>\n",
       "<p>32185 rows × 3 columns</p>\n",
       "</div>"
      ],
      "text/plain": [
       "         imdb_id                        title  \\\n",
       "0      tt0114709                    Toy Story   \n",
       "1      tt0113497                      Jumanji   \n",
       "2      tt0113228             Grumpier Old Men   \n",
       "3      tt0114885            Waiting to Exhale   \n",
       "4      tt0113041  Father of the Bride Part II   \n",
       "...          ...                          ...   \n",
       "32180  tt0112613              Caged Heat 3000   \n",
       "32181  tt0102797                   Robin Hood   \n",
       "32182  tt0303758                     Betrayal   \n",
       "32183  tt0008536             Satan Triumphant   \n",
       "32184  tt6980792                     Queerama   \n",
       "\n",
       "                                                    tags  \n",
       "0      led by woody, andy' toy live happili in hi roo...  \n",
       "1      when sibl judi and peter discov an enchant boa...  \n",
       "2      a famili wed reignit the ancient feud between ...  \n",
       "3      cheat on, mistreat and step on, the women are ...  \n",
       "4      just when georg bank ha recov from hi daughter...  \n",
       "...                                                  ...  \n",
       "32180  it' the year 3000 ad. the world' most danger w...  \n",
       "32181  yet anoth version of the classic epic, with en...  \n",
       "32182  when one of her hit goe wrong, a profession as...  \n",
       "32183  in a small town live two brothers, one a minis...  \n",
       "32184  50 year after decriminalis of homosexu in the ...  \n",
       "\n",
       "[32185 rows x 3 columns]"
      ]
     },
     "execution_count": 11,
     "metadata": {},
     "output_type": "execute_result"
    }
   ],
   "source": [
    "ds2[\"overview\"].to_csv(\"perfect_datasets/overview.csv\", index=False)"
   ]
  }
 ],
 "metadata": {
  "kernelspec": {
   "display_name": "Python 3 (ipykernel)",
   "language": "python",
   "name": "python3"
  },
  "language_info": {
   "codemirror_mode": {
    "name": "ipython",
    "version": 3
   },
   "file_extension": ".py",
   "mimetype": "text/x-python",
   "name": "python",
   "nbconvert_exporter": "python",
   "pygments_lexer": "ipython3",
   "version": "3.11.4"
  }
 },
 "nbformat": 4,
 "nbformat_minor": 2
}
