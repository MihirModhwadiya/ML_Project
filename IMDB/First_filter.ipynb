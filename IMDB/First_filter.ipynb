{
 "cells": [
  {
   "cell_type": "code",
   "execution_count": 1,
   "metadata": {},
   "outputs": [
    {
     "name": "stderr",
     "output_type": "stream",
     "text": [
      "C:\\Users\\mihir\\AppData\\Local\\Temp\\ipykernel_6180\\4003520063.py:3: DtypeWarning: Columns (10) have mixed types. Specify dtype option on import or set low_memory=False.\n",
      "  movie_info = pd.read_csv('./raw_datasets/movies_metadata.csv')\n"
     ]
    }
   ],
   "source": [
    "import pandas as pd\n",
    "\n",
    "movie_info = pd.read_csv('./raw_datasets/movies_metadata.csv')\n",
    "keywords = pd.read_csv('raw_datasets/keywords.csv')\n",
    "credits = pd.read_csv('raw_datasets/credits.csv')\n",
    "\n",
    "movie_info = pd.concat([movie_info, keywords, credits], axis=1)\n",
    "\n",
    "ds = movie_info[[\"imdb_id\", \"title\", \"genres\", \"production_companies\", \"original_language\", \"overview\", \"keywords\", \"cast\", \"crew\"]]\n",
    "\n",
    "ds = ds[ds[\"original_language\"] == \"en\"]\n",
    "ds.drop(columns=\"original_language\", inplace=True)\n",
    "\n",
    "ds.dropna(inplace=True)\n",
    "\n",
    "ds.to_csv(\"./perfect_datasets/perfect_dataset_v1.csv\", index=False)\n",
    "\n",
    "ds_overview = ds[\"overview\"]\n",
    "ds_overview.to_csv(\"./perfect_datasets/perfect_dataset_v1_overview.csv\", index=False)\n",
    "\n",
    "\n"
   ]
  }
 ],
 "metadata": {
  "kernelspec": {
   "display_name": "base",
   "language": "python",
   "name": "python3"
  },
  "language_info": {
   "codemirror_mode": {
    "name": "ipython",
    "version": 3
   },
   "file_extension": ".py",
   "mimetype": "text/x-python",
   "name": "python",
   "nbconvert_exporter": "python",
   "pygments_lexer": "ipython3",
   "version": "3.11.4"
  }
 },
 "nbformat": 4,
 "nbformat_minor": 2
}
