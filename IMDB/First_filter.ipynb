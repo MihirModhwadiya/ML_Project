{
 "cells": [
  {
   "cell_type": "code",
   "execution_count": 9,
   "metadata": {},
   "outputs": [
    {
     "data": {
      "text/plain": [
       "'[{\"id\": 28, \"name\": \"Action\"}, {\"id\": 12, \"name\": \"Adventure\"}, {\"id\": 14, \"name\": \"Fantasy\"}, {\"id\": 878, \"name\": \"Science Fiction\"}]'"
      ]
     },
     "execution_count": 9,
     "metadata": {},
     "output_type": "execute_result"
    }
   ],
   "source": [
    "import pandas as pd\n",
    "\n",
    "ds1 = pd.read_csv('./raw_datasets/tmdb_5000_credits.csv')\n",
    "ds2 = pd.read_csv('./raw_datasets/tmdb_5000_movies.csv')\n",
    "\n",
    "ds = ds2.merge(ds1, on='title')\n",
    "\n",
    "ds = ds[ds[\"original_language\"] == \"en\"]\n",
    "\n",
    "ds.drop(columns=\"tagline\", inplace=True)\n",
    "ds.drop(columns=\"homepage\", inplace=True)\n",
    "ds.drop(columns=\"status\", inplace=True)\n",
    "ds.drop(columns=\"vote_count\", inplace=True)\n",
    "ds.drop(columns=\"budget\", inplace=True)\n",
    "ds.drop(columns=\"id\", inplace=True)\n",
    "ds.drop(columns=\"original_title\", inplace=True)\n",
    "ds.drop(columns=\"spoken_languages\", inplace=True)\n",
    "ds.drop(columns=\"production_countries\", inplace=True)\n",
    "ds.drop(columns=\"release_date\", inplace=True)\n",
    "ds.drop(columns=\"original_language\", inplace=True)\n",
    "ds.drop(columns=\"popularity\", inplace=True)\n",
    "ds.drop(columns=\"runtime\", inplace=True)\n",
    "ds.drop(columns=\"vote_average\", inplace=True)\n",
    "ds.drop(columns=\"revenue\", inplace=True)\n",
    "\n",
    "ds.dropna(inplace=True)\n",
    "\n",
    "ds.to_csv(\"./perfect_datasets/perfect_dataset_v1.csv\", index=False)\n",
    "ds[\"genres\"][0]"
   ]
  }
 ],
 "metadata": {
  "kernelspec": {
   "display_name": "base",
   "language": "python",
   "name": "python3"
  },
  "language_info": {
   "codemirror_mode": {
    "name": "ipython",
    "version": 3
   },
   "file_extension": ".py",
   "mimetype": "text/x-python",
   "name": "python",
   "nbconvert_exporter": "python",
   "pygments_lexer": "ipython3",
   "version": "3.11.4"
  }
 },
 "nbformat": 4,
 "nbformat_minor": 2
}
