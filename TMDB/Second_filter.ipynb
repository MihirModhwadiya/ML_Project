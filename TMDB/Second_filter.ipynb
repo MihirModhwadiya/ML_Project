{
 "cells": [
  {
   "cell_type": "code",
   "execution_count": 1,
   "metadata": {},
   "outputs": [
    {
     "name": "stdout",
     "output_type": "stream",
     "text": [
      "<class 'pandas.core.frame.DataFrame'>\n",
      "RangeIndex: 4509 entries, 0 to 4508\n",
      "Data columns (total 8 columns):\n",
      " #   Column                Non-Null Count  Dtype \n",
      "---  ------                --------------  ----- \n",
      " 0   genres                4509 non-null   object\n",
      " 1   keywords              4509 non-null   object\n",
      " 2   overview              4509 non-null   object\n",
      " 3   production_companies  4509 non-null   object\n",
      " 4   title                 4509 non-null   object\n",
      " 5   movie_id              4509 non-null   int64 \n",
      " 6   cast                  4509 non-null   object\n",
      " 7   crew                  4509 non-null   object\n",
      "dtypes: int64(1), object(7)\n",
      "memory usage: 281.9+ KB\n"
     ]
    }
   ],
   "source": [
    "import ast\n",
    "import pandas as pd\n",
    "\n",
    "ds = pd.read_csv('./perfect_datasets/perfect_dataset_v1.csv')\n",
    "\n",
    "\n",
    "def to_list(x):\n",
    "    L=[]\n",
    "    for i in ast.literal_eval(x):    \n",
    "        L.append(i['name'])\n",
    "    return L\n",
    "\n",
    "ds['genres'] = ds['genres'].apply(to_list)\n",
    "ds[\"keywords\"] = ds[\"keywords\"].apply(to_list)\n",
    "ds[\"production_companies\"] = ds[\"production_companies\"].apply(to_list)\n",
    "ds[\"cast\"] = ds[\"cast\"].apply(to_list)\n",
    "\n",
    "\n",
    "def crew(x):\n",
    "    L=[]\n",
    "    C = [\"Writer\", \"Director\", \"Producer\"]\n",
    "    for i in ast.literal_eval(x):\n",
    "        if (i[\"job\"] in C):\n",
    "            if i[\"name\"] not in L:\n",
    "                L.append(i['name'])\n",
    "    return L\n",
    "\n",
    "ds[\"crew\"] = ds[\"crew\"].apply(crew)\n",
    "\n",
    "ds[\"overview\"] = ds[\"overview\"].apply(lambda x: x.split())\n",
    "\n",
    "ds['genres'] = ds['genres'].apply(lambda x:[i.replace(' ', '') for i in x])\n",
    "ds[\"keywords\"] = ds[\"keywords\"].apply(lambda x:[i.replace(\" \", \"\") for i in x])\n",
    "ds[\"cast\"] = ds[\"cast\"].apply(lambda x:[i.replace(\" \", \"\") for i in x])\n",
    "ds[\"crew\"] = ds[\"crew\"].apply(lambda x:[i.replace(\" \", \"\") for i in x])\n",
    "\n",
    "ds.info()\n",
    "# ds.to_csv('./perfect_datasets/perfect_dataset_v2.csv', index=False)\n"
   ]
  }
 ],
 "metadata": {
  "kernelspec": {
   "display_name": "base",
   "language": "python",
   "name": "python3"
  },
  "language_info": {
   "codemirror_mode": {
    "name": "ipython",
    "version": 3
   },
   "file_extension": ".py",
   "mimetype": "text/x-python",
   "name": "python",
   "nbconvert_exporter": "python",
   "pygments_lexer": "ipython3",
   "version": "3.11.4"
  }
 },
 "nbformat": 4,
 "nbformat_minor": 2
}
