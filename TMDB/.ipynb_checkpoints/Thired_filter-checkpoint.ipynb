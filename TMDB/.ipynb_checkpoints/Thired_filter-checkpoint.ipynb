{
 "cells": [
  {
   "cell_type": "code",
   "execution_count": 1,
   "metadata": {},
   "outputs": [
    {
     "data": {
      "text/plain": [
       "0       ['Action', 'Adventure', 'Fantasy', 'ScienceFic...\n",
       "1       ['Adventure', 'Fantasy', 'Action']['ocean', 'd...\n",
       "2       ['Action', 'Adventure', 'Crime']['spy', 'based...\n",
       "3       ['Action', 'Crime', 'Drama', 'Thriller']['dcco...\n",
       "4       ['Action', 'Adventure', 'ScienceFiction']['bas...\n",
       "                              ...                        \n",
       "4504    ['Foreign', 'Thriller'][][]['Adam,', 'a', 'sec...\n",
       "4505    ['Comedy', 'Romance'][][]['A', 'newlywed', \"co...\n",
       "4506    ['Comedy', 'Drama', 'Romance', 'TVMovie']['dat...\n",
       "4507    [][][]['When', 'ambitious', 'New', 'York', 'at...\n",
       "4508    ['Documentary']['obsession', 'camcorder', 'cru...\n",
       "Name: tags, Length: 4509, dtype: object"
      ]
     },
     "execution_count": 1,
     "metadata": {},
     "output_type": "execute_result"
    }
   ],
   "source": [
    "import pandas as pd\n",
    "import ast\n",
    "\n",
    "ds = pd.read_csv(\"perfect_datasets/perfect_dataset_v2.csv\")\n",
    "\n",
    "ds['tags'] = ds['genres'] + ds[\"keywords\"] + ds[\"production_companies\"] + ds[\"overview\"] + ds[\"title\"] + ds[\"cast\"] + ds[\"crew\"]\n",
    "\n",
    "ds2 = ds[[\"movie_id\", \"title\", \"tags\"]]\n",
    "\n",
    "ds2[\"tags\"].apply(lambda x:\"\".join(x))\n"
   ]
  }
 ],
 "metadata": {
  "kernelspec": {
   "display_name": "Python 3 (ipykernel)",
   "language": "python",
   "name": "python3"
  },
  "language_info": {
   "codemirror_mode": {
    "name": "ipython",
    "version": 3
   },
   "file_extension": ".py",
   "mimetype": "text/x-python",
   "name": "python",
   "nbconvert_exporter": "python",
   "pygments_lexer": "ipython3",
   "version": "3.11.4"
  }
 },
 "nbformat": 4,
 "nbformat_minor": 2
}
