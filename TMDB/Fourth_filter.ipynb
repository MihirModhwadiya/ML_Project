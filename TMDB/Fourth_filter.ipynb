{
 "cells": [
  {
   "cell_type": "code",
   "execution_count": 3,
   "metadata": {},
   "outputs": [
    {
     "name": "stdout",
     "output_type": "stream",
     "text": [
      "did you mean:  ['The Chronicles of Narnia: Prince Caspian', 'The Chronicles of Narnia: The Lion, the Witch and the Wardrobe', 'The Chronicles of Narnia: The Voyage of the Dawn Treader']\n",
      "\n",
      "Movie Id: 411\n",
      "Movie Name: The Chronicles of Narnia: The Lion, the Witch and the Wardrobe\n",
      "Movie Name: Siblings Lucy, Edmund, Susan and Peter step through a magical wardrobe and find the land of Narnia. There, the they discover a charming, once peaceful kingdom that has been plunged into eternal winter by the evil White Witch, Jadis. Aided by the wise and magnificent lion, Aslan, the children lead Narnia into a spectacular, climactic battle to be free of the Witch's glacial powers forever.\n",
      "\n",
      "Movie Id: 10140\n",
      "Movie Name: The Chronicles of Narnia: The Voyage of the Dawn Treader\n",
      "Movie Name: This time around Edmund and Lucy Pevensie, along with their pesky cousin Eustace Scrubb find themselves swallowed into a painting and on to a fantastic Narnian ship headed for the very edges of the world.\n",
      "\n",
      "Movie Id: 14324\n",
      "Movie Name: Virgin Territory\n",
      "Movie Name: The film is set in Tuscany during the Black Death. As in the Decameron, ten young Florentines take refuge from the plague. But instead of telling stories, they have lusty adventures, bawdy exchanges, romance and swordplay. There are randy nuns, Saracen pirates, and a sexy cow.\n",
      "\n",
      "Movie Id: 68818\n",
      "Movie Name: Blackthorn\n",
      "Movie Name: In Bolivia, Butch Cassidy (now calling himself James Blackthorne) pines for one last sight of home, an adventure that aligns him with a young robber and makes the duo a target for gangs and lawmen alike.\n",
      "\n",
      "Movie Id: 46256\n",
      "Movie Name: The Lion of Judah\n",
      "Movie Name: Upon learning that Judah has been trapped in the clutches of the townspeople and faces the possibility of being the sacrifice at the annual Festival, the stable mates leave their cozy barn and embark on an adventure to find and free their friend.\n",
      "\n"
     ]
    }
   ],
   "source": [
    "import pandas as pd\n",
    "from sklearn.metrics.pairwise import cosine_similarity\n",
    "from sklearn.feature_extraction.text import CountVectorizer\n",
    "\n",
    "ds = pd.read_csv(\"perfect_datasets/perfect_dataset_v3.csv\")\n",
    "ds_overview = pd.read_csv(\"perfect_datasets/perfect_dataset_v1.csv\")\n",
    "\n",
    "cv = CountVectorizer(max_features=5000, stop_words=\"english\")\n",
    "\n",
    "vectors = cv.fit_transform(ds[\"tags\"]).toarray()\n",
    "\n",
    "# cv.get_feature_names_out().tolist()\n",
    "\n",
    "similarity = cosine_similarity(vectors)\n",
    "temp = pd.DataFrame()\n",
    "temp[\"title\"] = ds[\"title\"].str.lower().str.split()\n",
    "temp[\"title\"] = temp[\"title\"].apply(lambda x: \" \".join(x))\n",
    "temp[\"title\"] = temp[\"title\"].apply(lambda x: x.replace(\":\", \"\"))\n",
    "\n",
    "movie_sugg = []\n",
    "\n",
    "c = 0\n",
    "\n",
    "def recommend(movie):\n",
    "    global c\n",
    "    # if(ds[(ds[\"title\"].str.lower()).str.startswith(movie.lower())].empty):\n",
    "    if(ds[ds[\"title\"].str.lower() == movie.lower()].empty):\n",
    "        for i in temp[\"title\"]:\n",
    "            if(movie.lower() in i) and c==0:\n",
    "                movie_sugg.append(ds.iloc[temp[temp[\"title\"] == i].index[0]].title)\n",
    "        print(\"did you mean: \", movie_sugg, end=\"\\n\\n\") if c==0 else print(\"No movie found\")\n",
    "        c = 1\n",
    "        return\n",
    "    elif(movie == \"\"):\n",
    "        print(\"Enter a movie name\")\n",
    "        return\n",
    "    # index = ds[(ds[\"title\"].str.lower()).str.startswith(movie.lower())].index[0]\n",
    "    index = ds[(ds[\"title\"].str.lower()) == movie.lower()].index[0]\n",
    "    distance = similarity[index]\n",
    "    movie_list = sorted(list(enumerate(distance)), reverse=True, key=lambda x: x[1])[1:6]\n",
    "\n",
    "    for i in movie_list:\n",
    "        print(\"Movie Id: \" + str(ds.iloc[i[0]].movie_id))\n",
    "        print(\"Movie Name: \" + ds.iloc[i[0]].title)\n",
    "        print(\"Movie Name: \" + ds_overview.iloc[i[0]].overview, end=\"\\n\\n\")\n",
    "    \n",
    "inp = str(input(\"Enter the movie name: \"))\n",
    "recommend(inp)\n",
    "\n",
    "if movie_sugg != []:\n",
    "        movie_re_input = str(input(\"Enter the movie name: \"))\n",
    "        recommend(movie_re_input)"
   ]
  }
 ],
 "metadata": {
  "kernelspec": {
   "display_name": "base",
   "language": "python",
   "name": "python3"
  },
  "language_info": {
   "codemirror_mode": {
    "name": "ipython",
    "version": 3
   },
   "file_extension": ".py",
   "mimetype": "text/x-python",
   "name": "python",
   "nbconvert_exporter": "python",
   "pygments_lexer": "ipython3",
   "version": "3.11.4"
  }
 },
 "nbformat": 4,
 "nbformat_minor": 2
}
