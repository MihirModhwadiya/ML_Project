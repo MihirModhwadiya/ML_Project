{
 "cells": [
  {
   "cell_type": "markdown",
   "metadata": {},
   "source": [
    "# Main"
   ]
  },
  {
   "cell_type": "code",
   "execution_count": 1,
   "metadata": {},
   "outputs": [],
   "source": [
    "import pandas as pd\n",
    "from sklearn.metrics.pairwise import cosine_similarity\n",
    "from sklearn.feature_extraction.text import CountVectorizer"
   ]
  },
  {
   "cell_type": "code",
   "execution_count": 2,
   "metadata": {},
   "outputs": [],
   "source": [
    "ds = pd.read_csv(\"./perfect_datasets/perfect_dataset_v3.csv\")"
   ]
  },
  {
   "cell_type": "code",
   "execution_count": 3,
   "metadata": {},
   "outputs": [],
   "source": [
    "ds_overview = pd.read_csv(\"./perfect_datasets/perfect_dataset_v1.csv\")"
   ]
  },
  {
   "cell_type": "code",
   "execution_count": 4,
   "metadata": {},
   "outputs": [],
   "source": [
    "cv = CountVectorizer(max_features=1000, stop_words=\"english\")"
   ]
  },
  {
   "cell_type": "code",
   "execution_count": 5,
   "metadata": {},
   "outputs": [],
   "source": [
    "vectors = cv.fit_transform(ds[\"tags\"]).toarray()"
   ]
  },
  {
   "cell_type": "code",
   "execution_count": 16,
   "metadata": {},
   "outputs": [],
   "source": [
    "similarity = cosine_similarity(vectors)"
   ]
  },
  {
   "cell_type": "code",
   "execution_count": 7,
   "metadata": {},
   "outputs": [],
   "source": [
    "c=0\n",
    "suggg = []\n",
    "sug_d={\"name\":[]}\n",
    "\n",
    "for i in similarity:\n",
    "    a = sorted(list(enumerate(similarity[c])), reverse=True, key=lambda x: x[1])\n",
    "    c2=0\n",
    "    temp = []\n",
    "    temp_c = {\"name\": f\"{ds.iloc[a[0][0]].title}\"}\n",
    "\n",
    "    for j in range(1, 25):\n",
    "        temp_c[\"name\"] += f\",{ds.iloc[a[j][0]].title}\"\n",
    "\n",
    "    suggg.append(temp)\n",
    "    sug_d[\"name\"].append(temp_c[\"name\"])\n",
    "    c+=1"
   ]
  },
  {
   "cell_type": "code",
   "execution_count": null,
   "metadata": {},
   "outputs": [],
   "source": [
    "d_ds = pd.DataFrame(sug_d)\n",
    "d_ds.to_csv(\"./perfect_datasets/perfect_datasets_v4.csv\", index=False)\n"
   ]
  },
  {
   "cell_type": "markdown",
   "metadata": {},
   "source": [
    "### K-means"
   ]
  },
  {
   "cell_type": "code",
   "execution_count": 76,
   "metadata": {},
   "outputs": [
    {
     "name": "stderr",
     "output_type": "stream",
     "text": [
      "c:\\Users\\mihir\\anaconda3\\Lib\\site-packages\\sklearn\\cluster\\_kmeans.py:1412: FutureWarning: The default value of `n_init` will change from 10 to 'auto' in 1.4. Set the value of `n_init` explicitly to suppress the warning\n",
      "  super()._check_params_vs_input(X, default_n_init=10)\n"
     ]
    }
   ],
   "source": [
    "import pandas as pd\n",
    "from sklearn.metrics.pairwise import cosine_similarity\n",
    "from sklearn.feature_extraction.text import CountVectorizer\n",
    "from sklearn.cluster import KMeans\n",
    "\n",
    "ds = pd.read_csv(\"./perfect_datasets/perfect_dataset_v3.csv\")\n",
    "ds_overview = pd.read_csv(\"./perfect_datasets/perfect_dataset_v1.csv\")\n",
    "\n",
    "cv = CountVectorizer(max_features=5000, stop_words=\"english\")\n",
    "\n",
    "vectors = cv.fit_transform(ds[\"tags\"]).toarray()\n",
    "\n",
    "similarity = cosine_similarity(vectors)\n",
    "\n",
    "num_clusters = similarity.shape[0] // 25\n",
    "kmeans = KMeans(n_clusters=num_clusters, random_state=0)\n",
    "cluster_labels = kmeans.fit_predict(similarity)\n",
    "\n",
    "ds[\"cluster_label\"] = cluster_labels\n",
    "\n",
    "ds.to_csv(\"./perfect_datasets/perfect_datasets_v4_with_clusters.csv\", index=False)"
   ]
  },
  {
   "cell_type": "code",
   "execution_count": 78,
   "metadata": {},
   "outputs": [
    {
     "data": {
      "text/html": [
       "<div>\n",
       "<style scoped>\n",
       "    .dataframe tbody tr th:only-of-type {\n",
       "        vertical-align: middle;\n",
       "    }\n",
       "\n",
       "    .dataframe tbody tr th {\n",
       "        vertical-align: top;\n",
       "    }\n",
       "\n",
       "    .dataframe thead th {\n",
       "        text-align: right;\n",
       "    }\n",
       "</style>\n",
       "<table border=\"1\" class=\"dataframe\">\n",
       "  <thead>\n",
       "    <tr style=\"text-align: right;\">\n",
       "      <th></th>\n",
       "      <th>movie_id</th>\n",
       "      <th>title</th>\n",
       "      <th>tags</th>\n",
       "      <th>cluster_label</th>\n",
       "    </tr>\n",
       "  </thead>\n",
       "  <tbody>\n",
       "    <tr>\n",
       "      <th>259</th>\n",
       "      <td>120</td>\n",
       "      <td>The Lord of the Rings: The Fellowship of the Ring</td>\n",
       "      <td>young hobbit frodo baggins, after inherit a my...</td>\n",
       "      <td>70</td>\n",
       "    </tr>\n",
       "    <tr>\n",
       "      <th>325</th>\n",
       "      <td>122</td>\n",
       "      <td>The Lord of the Rings: The Return of the King</td>\n",
       "      <td>aragorn is reveal as the heir to the ancient k...</td>\n",
       "      <td>141</td>\n",
       "    </tr>\n",
       "    <tr>\n",
       "      <th>326</th>\n",
       "      <td>121</td>\n",
       "      <td>The Lord of the Rings: The Two Towers</td>\n",
       "      <td>frodo and sam are trek to mordor to destroy th...</td>\n",
       "      <td>141</td>\n",
       "    </tr>\n",
       "  </tbody>\n",
       "</table>\n",
       "</div>"
      ],
      "text/plain": [
       "     movie_id                                              title  \\\n",
       "259       120  The Lord of the Rings: The Fellowship of the Ring   \n",
       "325       122      The Lord of the Rings: The Return of the King   \n",
       "326       121              The Lord of the Rings: The Two Towers   \n",
       "\n",
       "                                                  tags  cluster_label  \n",
       "259  young hobbit frodo baggins, after inherit a my...             70  \n",
       "325  aragorn is reveal as the heir to the ancient k...            141  \n",
       "326  frodo and sam are trek to mordor to destroy th...            141  "
      ]
     },
     "execution_count": 78,
     "metadata": {},
     "output_type": "execute_result"
    }
   ],
   "source": [
    "ds[ds[\"title\"].str.startswith(\"The Lord of the Rings\")]"
   ]
  },
  {
   "cell_type": "code",
   "execution_count": 57,
   "metadata": {},
   "outputs": [
    {
     "data": {
      "text/plain": [
       "78     36\n",
       "46     33\n",
       "409    32\n",
       "211    29\n",
       "226    29\n",
       "       ..\n",
       "371     2\n",
       "49      2\n",
       "38      2\n",
       "344     1\n",
       "259     1\n",
       "Name: cluster_label, Length: 450, dtype: int64"
      ]
     },
     "execution_count": 57,
     "metadata": {},
     "output_type": "execute_result"
    }
   ],
   "source": [
    "ds[\"cluster_label\"].value_counts()"
   ]
  },
  {
   "cell_type": "code",
   "execution_count": 79,
   "metadata": {},
   "outputs": [
    {
     "data": {
      "text/html": [
       "<div>\n",
       "<style scoped>\n",
       "    .dataframe tbody tr th:only-of-type {\n",
       "        vertical-align: middle;\n",
       "    }\n",
       "\n",
       "    .dataframe tbody tr th {\n",
       "        vertical-align: top;\n",
       "    }\n",
       "\n",
       "    .dataframe thead th {\n",
       "        text-align: right;\n",
       "    }\n",
       "</style>\n",
       "<table border=\"1\" class=\"dataframe\">\n",
       "  <thead>\n",
       "    <tr style=\"text-align: right;\">\n",
       "      <th></th>\n",
       "      <th>movie_id</th>\n",
       "      <th>title</th>\n",
       "      <th>tags</th>\n",
       "      <th>cluster_label</th>\n",
       "    </tr>\n",
       "  </thead>\n",
       "  <tbody>\n",
       "    <tr>\n",
       "      <th>7</th>\n",
       "      <td>767</td>\n",
       "      <td>Harry Potter and the Half-Blood Prince</td>\n",
       "      <td>as harri begin hi sixth year at hogwarts, he d...</td>\n",
       "      <td>70</td>\n",
       "    </tr>\n",
       "    <tr>\n",
       "      <th>96</th>\n",
       "      <td>49051</td>\n",
       "      <td>The Hobbit: An Unexpected Journey</td>\n",
       "      <td>bilbo baggins, a hobbit enjoy hi quiet life, i...</td>\n",
       "      <td>70</td>\n",
       "    </tr>\n",
       "    <tr>\n",
       "      <th>111</th>\n",
       "      <td>675</td>\n",
       "      <td>Harry Potter and the Order of the Phoenix</td>\n",
       "      <td>return for hi fifth year of studi at hogwarts,...</td>\n",
       "      <td>70</td>\n",
       "    </tr>\n",
       "    <tr>\n",
       "      <th>112</th>\n",
       "      <td>674</td>\n",
       "      <td>Harry Potter and the Goblet of Fire</td>\n",
       "      <td>harri start hi fourth year at hogwarts, compet...</td>\n",
       "      <td>70</td>\n",
       "    </tr>\n",
       "    <tr>\n",
       "      <th>259</th>\n",
       "      <td>120</td>\n",
       "      <td>The Lord of the Rings: The Fellowship of the Ring</td>\n",
       "      <td>young hobbit frodo baggins, after inherit a my...</td>\n",
       "      <td>70</td>\n",
       "    </tr>\n",
       "    <tr>\n",
       "      <th>273</th>\n",
       "      <td>672</td>\n",
       "      <td>Harry Potter and the Chamber of Secrets</td>\n",
       "      <td>ignor threat to hi life, harri return to hogwa...</td>\n",
       "      <td>70</td>\n",
       "    </tr>\n",
       "    <tr>\n",
       "      <th>375</th>\n",
       "      <td>9387</td>\n",
       "      <td>Conan the Barbarian</td>\n",
       "      <td>a film adapt of the classic sword and sorceri ...</td>\n",
       "      <td>70</td>\n",
       "    </tr>\n",
       "    <tr>\n",
       "      <th>1724</th>\n",
       "      <td>34584</td>\n",
       "      <td>The NeverEnding Story</td>\n",
       "      <td>while hide from bulli in hi school' attic, a y...</td>\n",
       "      <td>70</td>\n",
       "    </tr>\n",
       "    <tr>\n",
       "      <th>3146</th>\n",
       "      <td>26963</td>\n",
       "      <td>The Secret of Kells</td>\n",
       "      <td>adventur await 12 year old brendan who must fi...</td>\n",
       "      <td>70</td>\n",
       "    </tr>\n",
       "  </tbody>\n",
       "</table>\n",
       "</div>"
      ],
      "text/plain": [
       "      movie_id                                              title  \\\n",
       "7          767             Harry Potter and the Half-Blood Prince   \n",
       "96       49051                  The Hobbit: An Unexpected Journey   \n",
       "111        675          Harry Potter and the Order of the Phoenix   \n",
       "112        674                Harry Potter and the Goblet of Fire   \n",
       "259        120  The Lord of the Rings: The Fellowship of the Ring   \n",
       "273        672            Harry Potter and the Chamber of Secrets   \n",
       "375       9387                                Conan the Barbarian   \n",
       "1724     34584                              The NeverEnding Story   \n",
       "3146     26963                                The Secret of Kells   \n",
       "\n",
       "                                                   tags  cluster_label  \n",
       "7     as harri begin hi sixth year at hogwarts, he d...             70  \n",
       "96    bilbo baggins, a hobbit enjoy hi quiet life, i...             70  \n",
       "111   return for hi fifth year of studi at hogwarts,...             70  \n",
       "112   harri start hi fourth year at hogwarts, compet...             70  \n",
       "259   young hobbit frodo baggins, after inherit a my...             70  \n",
       "273   ignor threat to hi life, harri return to hogwa...             70  \n",
       "375   a film adapt of the classic sword and sorceri ...             70  \n",
       "1724  while hide from bulli in hi school' attic, a y...             70  \n",
       "3146  adventur await 12 year old brendan who must fi...             70  "
      ]
     },
     "execution_count": 79,
     "metadata": {},
     "output_type": "execute_result"
    }
   ],
   "source": [
    "ds[ds[\"cluster_label\"]==70]"
   ]
  }
 ],
 "metadata": {
  "kernelspec": {
   "display_name": "base",
   "language": "python",
   "name": "python3"
  },
  "language_info": {
   "codemirror_mode": {
    "name": "ipython",
    "version": 3
   },
   "file_extension": ".py",
   "mimetype": "text/x-python",
   "name": "python",
   "nbconvert_exporter": "python",
   "pygments_lexer": "ipython3",
   "version": "3.11.4"
  }
 },
 "nbformat": 4,
 "nbformat_minor": 2
}
