{
 "cells": [
  {
   "cell_type": "markdown",
   "metadata": {},
   "source": [
    "# Main"
   ]
  },
  {
   "cell_type": "code",
   "execution_count": 2,
   "metadata": {},
   "outputs": [],
   "source": [
    "import pandas as pd\n",
    "from sklearn.metrics.pairwise import cosine_similarity\n",
    "from sklearn.feature_extraction.text import CountVectorizer"
   ]
  },
  {
   "cell_type": "code",
   "execution_count": 3,
   "metadata": {},
   "outputs": [],
   "source": [
    "ds = pd.read_csv(\"./perfect_datasets/perfect_dataset_v3.csv\")"
   ]
  },
  {
   "cell_type": "code",
   "execution_count": 4,
   "metadata": {},
   "outputs": [],
   "source": [
    "ds_overview = pd.read_csv(\"./perfect_datasets/perfect_dataset_v1.csv\")"
   ]
  },
  {
   "cell_type": "code",
   "execution_count": 5,
   "metadata": {},
   "outputs": [],
   "source": [
    "cv = CountVectorizer(max_features=1000, stop_words=\"english\")"
   ]
  },
  {
   "cell_type": "code",
   "execution_count": 6,
   "metadata": {},
   "outputs": [],
   "source": [
    "vectors = cv.fit_transform(ds[\"tags\"]).toarray()"
   ]
  },
  {
   "cell_type": "code",
   "execution_count": 7,
   "metadata": {},
   "outputs": [],
   "source": [
    "similarity = cosine_similarity(vectors)"
   ]
  },
  {
   "cell_type": "code",
   "execution_count": 8,
   "metadata": {},
   "outputs": [
    {
     "ename": "KeyboardInterrupt",
     "evalue": "",
     "output_type": "error",
     "traceback": [
      "\u001b[1;31m---------------------------------------------------------------------------\u001b[0m",
      "\u001b[1;31mKeyboardInterrupt\u001b[0m                         Traceback (most recent call last)",
      "\u001b[1;32md:\\ML_project\\TMDB\\DFourth_filter.ipynb Cell 8\u001b[0m line \u001b[0;36m6\n\u001b[0;32m      <a href='vscode-notebook-cell:/d%3A/ML_project/TMDB/DFourth_filter.ipynb#X10sZmlsZQ%3D%3D?line=2'>3</a>\u001b[0m sug_d\u001b[39m=\u001b[39m{\u001b[39m\"\u001b[39m\u001b[39mname\u001b[39m\u001b[39m\"\u001b[39m:[]}\n\u001b[0;32m      <a href='vscode-notebook-cell:/d%3A/ML_project/TMDB/DFourth_filter.ipynb#X10sZmlsZQ%3D%3D?line=4'>5</a>\u001b[0m \u001b[39mfor\u001b[39;00m i \u001b[39min\u001b[39;00m similarity:\n\u001b[1;32m----> <a href='vscode-notebook-cell:/d%3A/ML_project/TMDB/DFourth_filter.ipynb#X10sZmlsZQ%3D%3D?line=5'>6</a>\u001b[0m     a \u001b[39m=\u001b[39m \u001b[39msorted\u001b[39m(\u001b[39mlist\u001b[39m(\u001b[39menumerate\u001b[39m(similarity[c])), reverse\u001b[39m=\u001b[39m\u001b[39mTrue\u001b[39;00m, key\u001b[39m=\u001b[39m\u001b[39mlambda\u001b[39;00m x: x[\u001b[39m1\u001b[39m])\n\u001b[0;32m      <a href='vscode-notebook-cell:/d%3A/ML_project/TMDB/DFourth_filter.ipynb#X10sZmlsZQ%3D%3D?line=6'>7</a>\u001b[0m     c2\u001b[39m=\u001b[39m\u001b[39m0\u001b[39m\n\u001b[0;32m      <a href='vscode-notebook-cell:/d%3A/ML_project/TMDB/DFourth_filter.ipynb#X10sZmlsZQ%3D%3D?line=7'>8</a>\u001b[0m     temp \u001b[39m=\u001b[39m []\n",
      "\u001b[1;32md:\\ML_project\\TMDB\\DFourth_filter.ipynb Cell 8\u001b[0m line \u001b[0;36m6\n\u001b[0;32m      <a href='vscode-notebook-cell:/d%3A/ML_project/TMDB/DFourth_filter.ipynb#X10sZmlsZQ%3D%3D?line=2'>3</a>\u001b[0m sug_d\u001b[39m=\u001b[39m{\u001b[39m\"\u001b[39m\u001b[39mname\u001b[39m\u001b[39m\"\u001b[39m:[]}\n\u001b[0;32m      <a href='vscode-notebook-cell:/d%3A/ML_project/TMDB/DFourth_filter.ipynb#X10sZmlsZQ%3D%3D?line=4'>5</a>\u001b[0m \u001b[39mfor\u001b[39;00m i \u001b[39min\u001b[39;00m similarity:\n\u001b[1;32m----> <a href='vscode-notebook-cell:/d%3A/ML_project/TMDB/DFourth_filter.ipynb#X10sZmlsZQ%3D%3D?line=5'>6</a>\u001b[0m     a \u001b[39m=\u001b[39m \u001b[39msorted\u001b[39m(\u001b[39mlist\u001b[39m(\u001b[39menumerate\u001b[39m(similarity[c])), reverse\u001b[39m=\u001b[39m\u001b[39mTrue\u001b[39;00m, key\u001b[39m=\u001b[39m\u001b[39mlambda\u001b[39;00m x: x[\u001b[39m1\u001b[39m])\n\u001b[0;32m      <a href='vscode-notebook-cell:/d%3A/ML_project/TMDB/DFourth_filter.ipynb#X10sZmlsZQ%3D%3D?line=6'>7</a>\u001b[0m     c2\u001b[39m=\u001b[39m\u001b[39m0\u001b[39m\n\u001b[0;32m      <a href='vscode-notebook-cell:/d%3A/ML_project/TMDB/DFourth_filter.ipynb#X10sZmlsZQ%3D%3D?line=7'>8</a>\u001b[0m     temp \u001b[39m=\u001b[39m []\n",
      "\u001b[1;31mKeyboardInterrupt\u001b[0m: "
     ]
    }
   ],
   "source": [
    "c=0\n",
    "suggg = []\n",
    "sug_d={\"name\":[]}\n",
    "\n",
    "for i in similarity:\n",
    "    a = sorted(list(enumerate(similarity[c])), reverse=True, key=lambda x: x[1])\n",
    "    c2=0\n",
    "    temp = []\n",
    "    temp_c = {\"name\": f\"{ds.iloc[a[0][0]].title}\"}\n",
    "\n",
    "    for j in range(1, 25):\n",
    "        temp_c[\"name\"] += f\",{ds.iloc[a[j][0]].title}\"\n",
    "\n",
    "    suggg.append(temp)\n",
    "    sug_d[\"name\"].append(temp_c[\"name\"])\n",
    "    c+=1"
   ]
  },
  {
   "cell_type": "code",
   "execution_count": null,
   "metadata": {},
   "outputs": [],
   "source": [
    "d_ds = pd.DataFrame(sug_d)\n",
    "d_ds.to_csv(\"./perfect_datasets/perfect_datasets_v4.csv\", index=False)\n"
   ]
  },
  {
   "cell_type": "markdown",
   "metadata": {},
   "source": [
    "### K-means"
   ]
  },
  {
   "cell_type": "code",
   "execution_count": 1,
   "metadata": {},
   "outputs": [],
   "source": [
    "import pandas as pd\n",
    "from sklearn.metrics.pairwise import cosine_similarity\n",
    "from sklearn.feature_extraction.text import CountVectorizer\n",
    "from sklearn.cluster import KMeans\n"
   ]
  },
  {
   "cell_type": "code",
   "execution_count": 7,
   "metadata": {},
   "outputs": [
    {
     "name": "stderr",
     "output_type": "stream",
     "text": [
      "c:\\Users\\mihir\\anaconda3\\Lib\\site-packages\\sklearn\\cluster\\_kmeans.py:1412: FutureWarning: The default value of `n_init` will change from 10 to 'auto' in 1.4. Set the value of `n_init` explicitly to suppress the warning\n",
      "  super()._check_params_vs_input(X, default_n_init=10)\n"
     ]
    }
   ],
   "source": [
    "\n",
    "ds = pd.read_csv(\"./perfect_datasets/perfect_dataset_v3.csv\")\n",
    "ds_overview = pd.read_csv(\"./perfect_datasets/perfect_dataset_v1.csv\")\n",
    "\n",
    "cv = CountVectorizer(max_features=5000, stop_words=\"english\")\n",
    "\n",
    "vectors = cv.fit_transform(ds[\"tags\"]).toarray()\n",
    "\n",
    "similarity = cosine_similarity(vectors)\n",
    "\n",
    "num_clusters = (similarity.shape[0]*10)//100\n",
    "kmeans = KMeans(n_clusters=num_clusters, random_state=0)\n",
    "cluster_labels = kmeans.fit_predict(similarity)\n",
    "\n",
    "ds[\"cluster_label\"] = cluster_labels\n"
   ]
  },
  {
   "cell_type": "code",
   "execution_count": 8,
   "metadata": {},
   "outputs": [],
   "source": [
    "ds.to_csv(\"./perfect_datasets/perfect_datasets_v4_with_clusters.csv\", index=False)"
   ]
  },
  {
   "cell_type": "code",
   "execution_count": 26,
   "metadata": {},
   "outputs": [
    {
     "data": {
      "text/html": [
       "<div>\n",
       "<style scoped>\n",
       "    .dataframe tbody tr th:only-of-type {\n",
       "        vertical-align: middle;\n",
       "    }\n",
       "\n",
       "    .dataframe tbody tr th {\n",
       "        vertical-align: top;\n",
       "    }\n",
       "\n",
       "    .dataframe thead th {\n",
       "        text-align: right;\n",
       "    }\n",
       "</style>\n",
       "<table border=\"1\" class=\"dataframe\">\n",
       "  <thead>\n",
       "    <tr style=\"text-align: right;\">\n",
       "      <th></th>\n",
       "      <th>movie_id</th>\n",
       "      <th>title</th>\n",
       "      <th>tags</th>\n",
       "      <th>cluster_label</th>\n",
       "    </tr>\n",
       "  </thead>\n",
       "  <tbody>\n",
       "    <tr>\n",
       "      <th>0</th>\n",
       "      <td>19995</td>\n",
       "      <td>Avatar</td>\n",
       "      <td>in the 22nd century, a parapleg marin is dispa...</td>\n",
       "      <td>70</td>\n",
       "    </tr>\n",
       "  </tbody>\n",
       "</table>\n",
       "</div>"
      ],
      "text/plain": [
       "   movie_id   title                                               tags  \\\n",
       "0     19995  Avatar  in the 22nd century, a parapleg marin is dispa...   \n",
       "\n",
       "   cluster_label  \n",
       "0             70  "
      ]
     },
     "execution_count": 26,
     "metadata": {},
     "output_type": "execute_result"
    }
   ],
   "source": [
    "ds[ds[\"title\"].str.lower().str.startswith(\"avatar\")]"
   ]
  },
  {
   "cell_type": "code",
   "execution_count": null,
   "metadata": {},
   "outputs": [
    {
     "data": {
      "text/plain": [
       "78     36\n",
       "46     33\n",
       "409    32\n",
       "211    29\n",
       "226    29\n",
       "       ..\n",
       "371     2\n",
       "49      2\n",
       "38      2\n",
       "344     1\n",
       "259     1\n",
       "Name: cluster_label, Length: 450, dtype: int64"
      ]
     },
     "execution_count": 6,
     "metadata": {},
     "output_type": "execute_result"
    }
   ],
   "source": [
    "ds[\"cluster_label\"].value_counts()"
   ]
  },
  {
   "cell_type": "code",
   "execution_count": 27,
   "metadata": {},
   "outputs": [
    {
     "data": {
      "text/html": [
       "<div>\n",
       "<style scoped>\n",
       "    .dataframe tbody tr th:only-of-type {\n",
       "        vertical-align: middle;\n",
       "    }\n",
       "\n",
       "    .dataframe tbody tr th {\n",
       "        vertical-align: top;\n",
       "    }\n",
       "\n",
       "    .dataframe thead th {\n",
       "        text-align: right;\n",
       "    }\n",
       "</style>\n",
       "<table border=\"1\" class=\"dataframe\">\n",
       "  <thead>\n",
       "    <tr style=\"text-align: right;\">\n",
       "      <th></th>\n",
       "      <th>movie_id</th>\n",
       "      <th>title</th>\n",
       "      <th>tags</th>\n",
       "      <th>cluster_label</th>\n",
       "    </tr>\n",
       "  </thead>\n",
       "  <tbody>\n",
       "    <tr>\n",
       "      <th>0</th>\n",
       "      <td>19995</td>\n",
       "      <td>Avatar</td>\n",
       "      <td>in the 22nd century, a parapleg marin is dispa...</td>\n",
       "      <td>70</td>\n",
       "    </tr>\n",
       "    <tr>\n",
       "      <th>213</th>\n",
       "      <td>1979</td>\n",
       "      <td>Fantastic 4: Rise of the Silver Surfer</td>\n",
       "      <td>the fantast four return to the big screen as a...</td>\n",
       "      <td>70</td>\n",
       "    </tr>\n",
       "    <tr>\n",
       "      <th>225</th>\n",
       "      <td>37834</td>\n",
       "      <td>Knight and Day</td>\n",
       "      <td>a fugit coupl goe on a glamor and sometim dead...</td>\n",
       "      <td>70</td>\n",
       "    </tr>\n",
       "    <tr>\n",
       "      <th>240</th>\n",
       "      <td>1593</td>\n",
       "      <td>Night at the Museum</td>\n",
       "      <td>chao reign at the natur histori museum when ni...</td>\n",
       "      <td>70</td>\n",
       "    </tr>\n",
       "    <tr>\n",
       "      <th>468</th>\n",
       "      <td>4442</td>\n",
       "      <td>The Brothers Grimm</td>\n",
       "      <td>folklor collector and con artists, jake and wi...</td>\n",
       "      <td>70</td>\n",
       "    </tr>\n",
       "    <tr>\n",
       "      <th>790</th>\n",
       "      <td>116741</td>\n",
       "      <td>The Internship</td>\n",
       "      <td>two recent laid-off men in their 40 tri to mak...</td>\n",
       "      <td>70</td>\n",
       "    </tr>\n",
       "    <tr>\n",
       "      <th>1378</th>\n",
       "      <td>11469</td>\n",
       "      <td>Black Knight</td>\n",
       "      <td>martin lawrenc play jamal, an employ in mediev...</td>\n",
       "      <td>70</td>\n",
       "    </tr>\n",
       "    <tr>\n",
       "      <th>2072</th>\n",
       "      <td>9760</td>\n",
       "      <td>Epic Movie</td>\n",
       "      <td>when edward, peter, luci and susan each follow...</td>\n",
       "      <td>70</td>\n",
       "    </tr>\n",
       "    <tr>\n",
       "      <th>3824</th>\n",
       "      <td>7512</td>\n",
       "      <td>Idiocracy</td>\n",
       "      <td>to test it top-secret human hibern project, th...</td>\n",
       "      <td>70</td>\n",
       "    </tr>\n",
       "  </tbody>\n",
       "</table>\n",
       "</div>"
      ],
      "text/plain": [
       "      movie_id                                   title  \\\n",
       "0        19995                                  Avatar   \n",
       "213       1979  Fantastic 4: Rise of the Silver Surfer   \n",
       "225      37834                          Knight and Day   \n",
       "240       1593                     Night at the Museum   \n",
       "468       4442                      The Brothers Grimm   \n",
       "790     116741                          The Internship   \n",
       "1378     11469                            Black Knight   \n",
       "2072      9760                              Epic Movie   \n",
       "3824      7512                               Idiocracy   \n",
       "\n",
       "                                                   tags  cluster_label  \n",
       "0     in the 22nd century, a parapleg marin is dispa...             70  \n",
       "213   the fantast four return to the big screen as a...             70  \n",
       "225   a fugit coupl goe on a glamor and sometim dead...             70  \n",
       "240   chao reign at the natur histori museum when ni...             70  \n",
       "468   folklor collector and con artists, jake and wi...             70  \n",
       "790   two recent laid-off men in their 40 tri to mak...             70  \n",
       "1378  martin lawrenc play jamal, an employ in mediev...             70  \n",
       "2072  when edward, peter, luci and susan each follow...             70  \n",
       "3824  to test it top-secret human hibern project, th...             70  "
      ]
     },
     "execution_count": 27,
     "metadata": {},
     "output_type": "execute_result"
    }
   ],
   "source": [
    "ds[ds[\"cluster_label\"]==70]"
   ]
  },
  {
   "cell_type": "code",
   "execution_count": null,
   "metadata": {},
   "outputs": [
    {
     "data": {
      "text/html": [
       "<div>\n",
       "<style scoped>\n",
       "    .dataframe tbody tr th:only-of-type {\n",
       "        vertical-align: middle;\n",
       "    }\n",
       "\n",
       "    .dataframe tbody tr th {\n",
       "        vertical-align: top;\n",
       "    }\n",
       "\n",
       "    .dataframe thead th {\n",
       "        text-align: right;\n",
       "    }\n",
       "</style>\n",
       "<table border=\"1\" class=\"dataframe\">\n",
       "  <thead>\n",
       "    <tr style=\"text-align: right;\">\n",
       "      <th></th>\n",
       "      <th>movie_id</th>\n",
       "      <th>title</th>\n",
       "      <th>tags</th>\n",
       "      <th>cluster_label</th>\n",
       "    </tr>\n",
       "  </thead>\n",
       "  <tbody>\n",
       "    <tr>\n",
       "      <th>1112</th>\n",
       "      <td>8095</td>\n",
       "      <td>Cleopatra</td>\n",
       "      <td>histor epic. the triumph and tragedi of the eg...</td>\n",
       "      <td>231</td>\n",
       "    </tr>\n",
       "  </tbody>\n",
       "</table>\n",
       "</div>"
      ],
      "text/plain": [
       "      movie_id      title                                               tags  \\\n",
       "1112      8095  Cleopatra  histor epic. the triumph and tragedi of the eg...   \n",
       "\n",
       "      cluster_label  \n",
       "1112            231  "
      ]
     },
     "execution_count": 19,
     "metadata": {},
     "output_type": "execute_result"
    }
   ],
   "source": [
    "ds[ds[\"title\"].str.startswith(\"Cleopatra\")]"
   ]
  }
 ],
 "metadata": {
  "kernelspec": {
   "display_name": "base",
   "language": "python",
   "name": "python3"
  },
  "language_info": {
   "codemirror_mode": {
    "name": "ipython",
    "version": 3
   },
   "file_extension": ".py",
   "mimetype": "text/x-python",
   "name": "python",
   "nbconvert_exporter": "python",
   "pygments_lexer": "ipython3",
   "version": "3.11.4"
  }
 },
 "nbformat": 4,
 "nbformat_minor": 2
}
