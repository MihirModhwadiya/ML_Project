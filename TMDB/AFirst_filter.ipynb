{
 "cells": [
  {
   "cell_type": "code",
   "execution_count": null,
   "metadata": {},
   "outputs": [],
   "source": [
    "import pandas as pd\n",
    "\n",
    "ds1 = pd.read_csv('./raw_datasets/tmdb_5000_credits.csv')\n",
    "ds2 = pd.read_csv('./raw_datasets/tmdb_5000_movies.csv')\n",
    "\n",
    "# merges d2 in d1\n",
    "ds = ds2.merge(ds1, on='title')\n",
    "\n",
    "# stores movies that's language is english\n",
    "ds = ds[ds[\"original_language\"] == \"en\"]\n",
    "\n",
    "# drops unnesesory columns\n",
    "ds.drop(columns=\"tagline\", inplace=True)\n",
    "ds.drop(columns=\"homepage\", inplace=True)\n",
    "ds.drop(columns=\"status\", inplace=True)\n",
    "ds.drop(columns=\"vote_count\", inplace=True)\n",
    "ds.drop(columns=\"budget\", inplace=True)\n",
    "ds.drop(columns=\"id\", inplace=True)\n",
    "ds.drop(columns=\"original_title\", inplace=True)\n",
    "ds.drop(columns=\"spoken_languages\", inplace=True)\n",
    "ds.drop(columns=\"production_countries\", inplace=True)\n",
    "ds.drop(columns=\"release_date\", inplace=True)\n",
    "ds.drop(columns=\"original_language\", inplace=True)\n",
    "ds.drop(columns=\"popularity\", inplace=True)\n",
    "ds.drop(columns=\"runtime\", inplace=True)\n",
    "ds.drop(columns=\"vote_average\", inplace=True)\n",
    "ds.drop(columns=\"revenue\", inplace=True)\n",
    "\n",
    "# drops nan rows\n",
    "ds.dropna(inplace=True)\n",
    "\n",
    "# saves raw dataset to perfect dataset v1\n",
    "ds.to_csv(\"./perfect_datasets/perfect_dataset_v1.csv\", index=False)"
   ]
  },
  {
   "cell_type": "code",
   "execution_count": null,
   "metadata": {},
   "outputs": [],
   "source": [
    "\n",
    "# saves each column to a csv file: (not important to run this file)\n",
    "\n",
    "ds[\"overview\"].to_csv(\"./perfect_datasets/perfect_dataset_v1_overview.csv\", index=False)\n",
    "ds[\"title\"].to_csv(\"./perfect_datasets/perfect_dataset_v1_title.csv\", index=False)"
   ]
  }
 ],
 "metadata": {
  "kernelspec": {
   "display_name": "base",
   "language": "python",
   "name": "python3"
  },
  "language_info": {
   "codemirror_mode": {
    "name": "ipython",
    "version": 3
   },
   "file_extension": ".py",
   "mimetype": "text/x-python",
   "name": "python",
   "nbconvert_exporter": "python",
   "pygments_lexer": "ipython3",
   "version": "3.11.4"
  }
 },
 "nbformat": 4,
 "nbformat_minor": 2
}
