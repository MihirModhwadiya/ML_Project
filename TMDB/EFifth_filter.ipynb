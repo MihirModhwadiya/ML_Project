{
 "cells": [
  {
   "cell_type": "markdown",
   "metadata": {},
   "source": [
    "# Main"
   ]
  },
  {
   "cell_type": "code",
   "execution_count": 18,
   "metadata": {},
   "outputs": [],
   "source": [
    "import pandas as pd\n",
    "# import random"
   ]
  },
  {
   "cell_type": "code",
   "execution_count": 19,
   "metadata": {},
   "outputs": [],
   "source": [
    "ds = pd.read_csv(\"./perfect_datasets/perfect_dataset_v2.csv\")"
   ]
  },
  {
   "cell_type": "code",
   "execution_count": 20,
   "metadata": {},
   "outputs": [],
   "source": [
    "ds_overview = pd.read_csv(\"./perfect_datasets/perfect_dataset_v1_overview.csv\")"
   ]
  },
  {
   "cell_type": "code",
   "execution_count": 28,
   "metadata": {},
   "outputs": [],
   "source": [
    "similarity = pd.read_csv(\"./perfect_datasets/perfect_datasets_v4.csv\")"
   ]
  },
  {
   "cell_type": "code",
   "execution_count": 42,
   "metadata": {},
   "outputs": [],
   "source": [
    "temp = pd.DataFrame()\n",
    "temp[\"title\"] = similarity[\"name\"].str.lower().str.split()\n",
    "temp[\"title\"] = similarity[\"name\"].apply(lambda x: x.replace(\":\", \" :\"))"
   ]
  },
  {
   "cell_type": "code",
   "execution_count": 43,
   "metadata": {},
   "outputs": [],
   "source": [
    "for_sugg = pd.DataFrame()\n",
    "for_sugg[\"title\"] = similarity[\"name\"].str.lower().str.split()\n",
    "for_sugg[\"title\"] = similarity[\"name\"].apply(lambda x: x.replace(\"\", \"\"))"
   ]
  },
  {
   "cell_type": "code",
   "execution_count": 44,
   "metadata": {},
   "outputs": [],
   "source": [
    "\n",
    "movie_sugg = []\n",
    "c = 0\n",
    "\n",
    "def recommend(movie):\n",
    "    global c\n",
    "    global movie_sugg\n",
    "    if(ds[ds[\"title\"].str.lower() == movie.lower()].empty):\n",
    "        for i in temp[\"title\"]:\n",
    "            tmp = i.split(\",\")\n",
    "            movi = tmp[0].lower().split()\n",
    "            if(movie.lower() in movi) and c==0:\n",
    "                movie_sugg.append(tmp[0].replace(\" :\", \":\"))\n",
    "            if(movie.lower() in movi) and c==1:\n",
    "                movie_sugg = (tmp[0].replace(\" :\", \":\"))\n",
    "        print(\"did you mean: \", movie_sugg, end=\"\\n\\n\") if c<=1 else print(\"No movie found\")\n",
    "        c += 1\n",
    "        return\n",
    "    elif(movie == \"\"):\n",
    "        print(\"Enter a movie name\")\n",
    "        return\n",
    "    \n",
    "    for_sugg[\"title\"] = for_sugg[\"title\"].apply(lambda x: x.split(\",\"))\n",
    "    \n",
    "    index = ds[(ds[\"title\"].str.lower()) == movie.lower()].index[0]\n",
    "\n",
    "    moviess = for_sugg[\"title\"][index][1:]\n",
    "    rndm = [1,2,3,4,5]\n",
    "    \n",
    "    '''\n",
    "    for i in range(0,5):\n",
    "        rd = random.randint(1,10)\n",
    "        rndm.append(rd if rd not in rndm else random.randint(1,10))\n",
    "    '''\n",
    "\n",
    "    for i in rndm:\n",
    "        index2 = ds[(ds[\"title\"].str.lower()) == moviess[i].lower()].index[0]\n",
    "        print(\"Movie Id:\",ds.iloc[index2][\"movie_id\"])\n",
    "        print(\"Movie Name:\",moviess[i].replace(\" :\", \":\"))\n",
    "        print(\"Movie Overview:\",ds_overview.iloc[index2][\"overview\"], end=\"\\n\\n\")\n"
   ]
  },
  {
   "cell_type": "code",
   "execution_count": 45,
   "metadata": {},
   "outputs": [
    {
     "name": "stdout",
     "output_type": "stream",
     "text": [
      "Movie Id: 122917\n",
      "Movie Name: The Hobbit: The Battle of the Five Armies\n",
      "Movie Overview: Immediately after the events of The Desolation of Smaug, Bilbo and the dwarves try to defend Erebor's mountain of treasure from others who claim it: the men of the ruined Laketown and the elves of Mirkwood. Meanwhile an army of Orcs led by Azog the Defiler is marching on Erebor, fueled by the rise of the dark lord Sauron. Dwarves, elves and men must unite, and the hope for Middle-Earth falls into Bilbo's hands.\n",
      "\n",
      "Movie Id: 82702\n",
      "Movie Name: How to Train Your Dragon 2\n",
      "Movie Overview: The thrilling second chapter of the epic How To Train Your Dragon trilogy brings back the fantastical world of Hiccup and Toothless five years later. While Astrid, Snotlout and the rest of the gang are challenging each other to dragon races (the island's new favorite contact sport), the now inseparable pair journey through the skies, charting unmapped territories and exploring new worlds. When one of their adventures leads to the discovery of a secret ice cave that is home to hundreds of new wild dragons and the mysterious Dragon Rider, the two friends find themselves at the center of a battle to protect the peace.\n",
      "\n",
      "Movie Id: 312221\n",
      "Movie Name: Creed\n",
      "Movie Overview: The former World Heavyweight Champion Rocky Balboa serves as a trainer and mentor to Adonis Johnson, the son of his late friend and former rival Apollo Creed.\n",
      "\n",
      "Movie Id: 5494\n",
      "Movie Name: George and the Dragon\n",
      "Movie Overview: A knight returning from the Crusades takes on a dragon and becomes a legend.\n",
      "\n",
      "Movie Id: 41216\n",
      "Movie Name: Legend of the Guardians: The Owls of Ga'Hoole\n",
      "Movie Overview: Soren, a young barn owl, is kidnapped by owls of St. Aggie's, ostensibly an orphanage, where owlets are brainwashed into becoming soldiers. He and his new friends escape to the island of Ga'Hoole, to assist its noble, wise owls who fight the army being created by the wicked rulers of St. Aggie's. The film is based on the first three books in the series.\n",
      "\n"
     ]
    }
   ],
   "source": [
    "inp = str(input(\"Enter the movie name: \"))\n",
    "recommend(inp)\n",
    "\n",
    "if movie_sugg != []:\n",
    "        movie_re_input = str(input(\"Enter the movie name: \"))\n",
    "        recommend(movie_re_input)\n"
   ]
  },
  {
   "cell_type": "markdown",
   "metadata": {},
   "source": [
    "## Chintan TfidfVectorizer"
   ]
  },
  {
   "cell_type": "code",
   "execution_count": 8,
   "metadata": {},
   "outputs": [
    {
     "name": "stdout",
     "output_type": "stream",
     "text": [
      "Recommended Movies:\n",
      "1       Pirates of the Caribbean: At World's End\n",
      "2                                        Spectre\n",
      "3                          The Dark Knight Rises\n",
      "4                                    John Carter\n",
      "5                                   Spider-Man 3\n",
      "                          ...                   \n",
      "4504                                      Cavite\n",
      "4505                                   Newlyweds\n",
      "4506                   Signed, Sealed, Delivered\n",
      "4507                            Shanghai Calling\n",
      "4508                           My Date with Drew\n",
      "Name: title, Length: 4508, dtype: object\n"
     ]
    }
   ],
   "source": [
    "import pandas as pd\n",
    "from sklearn.feature_extraction.text import TfidfVectorizer\n",
    "from sklearn.metrics.pairwise import linear_kernel\n",
    "from difflib import get_close_matches  # Python's difflib module for finding close matches\n",
    "\n",
    "# Load data\n",
    "ds = pd.read_csv(\"./perfect_datasets/perfect_dataset_v2.csv\")\n",
    "\n",
    "# Create a TF-IDF vectorizer\n",
    "tfidf_vectorizer = TfidfVectorizer(stop_words='english')\n",
    "tfidf_matrix = tfidf_vectorizer.fit_transform(ds['title'])\n",
    "\n",
    "# Calculate the cosine similarity between movies\n",
    "cosine_sim = linear_kernel(tfidf_matrix, tfidf_matrix)\n",
    "\n",
    "def find_similar_movies(movie_name):\n",
    "    similar_movies = []\n",
    "    for title in ds['title']:\n",
    "        similar_movies.extend(get_close_matches(movie_name, [title], n=5, cutoff=0.6))\n",
    "    return list(set(similar_movies))\n",
    "\n",
    "def recommend(movie_name):\n",
    "    movie_name = movie_name.lower()\n",
    "    \n",
    "    # Check if the exact movie name exists\n",
    "    exact_match = ds[ds['title'].str.lower() == movie_name]\n",
    "    \n",
    "    if not exact_match.empty:\n",
    "        idx = exact_match.index[0]\n",
    "        sim_scores = list(enumerate(cosine_sim[idx]))\n",
    "        # sim_scores = sorted(sim_scores, key=lambda x: x[1], reverse=True)\n",
    "        sim_scores = sim_scores[1:]  # Get the top 5 most similar movies\n",
    "        movie_indices = [i[0] for i in sim_scores]\n",
    "        recommended_movies = ds['title'].iloc[movie_indices]\n",
    "        print(\"Recommended Movies:\")\n",
    "        print(recommended_movies)\n",
    "    else:\n",
    "        print(\"Movie not found. Did you mean:\")\n",
    "        similar_movies = find_similar_movies(movie_name)\n",
    "        print(similar_movies)\n",
    "\n",
    "# User input\n",
    "inp = input(\"Enter a movie name: \")\n",
    "recommend(inp)\n"
   ]
  }
 ],
 "metadata": {
  "kernelspec": {
   "display_name": "base",
   "language": "python",
   "name": "python3"
  },
  "language_info": {
   "codemirror_mode": {
    "name": "ipython",
    "version": 3
   },
   "file_extension": ".py",
   "mimetype": "text/x-python",
   "name": "python",
   "nbconvert_exporter": "python",
   "pygments_lexer": "ipython3",
   "version": "3.11.4"
  }
 },
 "nbformat": 4,
 "nbformat_minor": 2
}
