{
 "cells": [
  {
   "cell_type": "code",
   "execution_count": 7,
   "metadata": {},
   "outputs": [
    {
     "ename": "UnboundLocalError",
     "evalue": "cannot access local variable 'c' where it is not associated with a value",
     "output_type": "error",
     "traceback": [
      "\u001b[1;31m---------------------------------------------------------------------------\u001b[0m",
      "\u001b[1;31mUnboundLocalError\u001b[0m                         Traceback (most recent call last)",
      "\u001b[1;32md:\\ML_project\\TMDB\\EFifth_filter.ipynb Cell 1\u001b[0m line \u001b[0;36m5\n\u001b[0;32m     <a href='vscode-notebook-cell:/d%3A/ML_project/TMDB/EFifth_filter.ipynb#W0sZmlsZQ%3D%3D?line=51'>52</a>\u001b[0m         \u001b[39mprint\u001b[39m(\u001b[39m\"\u001b[39m\u001b[39mMovie Overview:\u001b[39m\u001b[39m\"\u001b[39m,ds_overview\u001b[39m.\u001b[39miloc[index2][\u001b[39m\"\u001b[39m\u001b[39moverview\u001b[39m\u001b[39m\"\u001b[39m], end\u001b[39m=\u001b[39m\u001b[39m\"\u001b[39m\u001b[39m\\n\u001b[39;00m\u001b[39m\\n\u001b[39;00m\u001b[39m\"\u001b[39m)\n\u001b[0;32m     <a href='vscode-notebook-cell:/d%3A/ML_project/TMDB/EFifth_filter.ipynb#W0sZmlsZQ%3D%3D?line=53'>54</a>\u001b[0m inp \u001b[39m=\u001b[39m \u001b[39mstr\u001b[39m(\u001b[39minput\u001b[39m(\u001b[39m\"\u001b[39m\u001b[39mEnter the movie name: \u001b[39m\u001b[39m\"\u001b[39m))\n\u001b[1;32m---> <a href='vscode-notebook-cell:/d%3A/ML_project/TMDB/EFifth_filter.ipynb#W0sZmlsZQ%3D%3D?line=54'>55</a>\u001b[0m recommend(inp)\n\u001b[0;32m     <a href='vscode-notebook-cell:/d%3A/ML_project/TMDB/EFifth_filter.ipynb#W0sZmlsZQ%3D%3D?line=56'>57</a>\u001b[0m \u001b[39mif\u001b[39;00m movie_sugg \u001b[39m!=\u001b[39m []:\n\u001b[0;32m     <a href='vscode-notebook-cell:/d%3A/ML_project/TMDB/EFifth_filter.ipynb#W0sZmlsZQ%3D%3D?line=57'>58</a>\u001b[0m         movie_re_input \u001b[39m=\u001b[39m \u001b[39mstr\u001b[39m(\u001b[39minput\u001b[39m(\u001b[39m\"\u001b[39m\u001b[39mEnter the movie name: \u001b[39m\u001b[39m\"\u001b[39m))\n",
      "\u001b[1;32md:\\ML_project\\TMDB\\EFifth_filter.ipynb Cell 1\u001b[0m line \u001b[0;36m2\n\u001b[0;32m     <a href='vscode-notebook-cell:/d%3A/ML_project/TMDB/EFifth_filter.ipynb#W0sZmlsZQ%3D%3D?line=22'>23</a>\u001b[0m tmp \u001b[39m=\u001b[39m i\u001b[39m.\u001b[39msplit(\u001b[39m\"\u001b[39m\u001b[39m,\u001b[39m\u001b[39m\"\u001b[39m)\n\u001b[0;32m     <a href='vscode-notebook-cell:/d%3A/ML_project/TMDB/EFifth_filter.ipynb#W0sZmlsZQ%3D%3D?line=23'>24</a>\u001b[0m movi \u001b[39m=\u001b[39m tmp[\u001b[39m0\u001b[39m]\u001b[39m.\u001b[39mlower()\u001b[39m.\u001b[39msplit()\n\u001b[1;32m---> <a href='vscode-notebook-cell:/d%3A/ML_project/TMDB/EFifth_filter.ipynb#W0sZmlsZQ%3D%3D?line=24'>25</a>\u001b[0m \u001b[39mif\u001b[39;00m(movie\u001b[39m.\u001b[39mlower() \u001b[39min\u001b[39;00m movi) \u001b[39mand\u001b[39;00m c\u001b[39m==\u001b[39m\u001b[39m0\u001b[39m:\n\u001b[0;32m     <a href='vscode-notebook-cell:/d%3A/ML_project/TMDB/EFifth_filter.ipynb#W0sZmlsZQ%3D%3D?line=25'>26</a>\u001b[0m     movie_sugg\u001b[39m.\u001b[39mappend(tmp[\u001b[39m0\u001b[39m]\u001b[39m.\u001b[39mreplace(\u001b[39m\"\u001b[39m\u001b[39m :\u001b[39m\u001b[39m\"\u001b[39m, \u001b[39m\"\u001b[39m\u001b[39m:\u001b[39m\u001b[39m\"\u001b[39m))\n\u001b[0;32m     <a href='vscode-notebook-cell:/d%3A/ML_project/TMDB/EFifth_filter.ipynb#W0sZmlsZQ%3D%3D?line=26'>27</a>\u001b[0m     \u001b[39mprint\u001b[39m(\u001b[39m\"\u001b[39m\u001b[39msug1\u001b[39m\u001b[39m\"\u001b[39m \u001b[39m+\u001b[39m \u001b[39mstr\u001b[39m(movie_sugg))\n",
      "\u001b[1;31mUnboundLocalError\u001b[0m: cannot access local variable 'c' where it is not associated with a value"
     ]
    }
   ],
   "source": [
    "import pandas as pd\n",
    "import ast\n",
    "import random\n",
    "\n",
    "ds = pd.read_csv(\"./perfect_datasets/perfect_dataset_v2.csv\")\n",
    "ds_overview = pd.read_csv(\"./perfect_datasets/perfect_dataset_v1_overview.csv\")\n",
    "similarity = pd.read_csv(\"./perfect_datasets/perfect_datasets_v4.csv\")\n",
    "\n",
    "temp = pd.DataFrame()\n",
    "temp[\"title\"] = similarity[\"name\"].str.lower().str.split()\n",
    "temp[\"title\"] = similarity[\"name\"].apply(lambda x: x.replace(\":\", \" :\"))\n",
    "\n",
    "for_sugg = pd.DataFrame()\n",
    "for_sugg[\"title\"] = similarity[\"name\"].str.lower().str.split()\n",
    "for_sugg[\"title\"] = similarity[\"name\"].apply(lambda x: x.replace(\"\", \"\"))\n",
    "\n",
    "movie_sugg = []\n",
    "c = 0\n",
    "\n",
    "def recommend(movie):\n",
    "    global c\n",
    "    global movie_sugg\n",
    "    if(ds[ds[\"title\"].str.lower() == movie.lower()].empty):\n",
    "        for i in temp[\"title\"]:\n",
    "            tmp = i.split(\",\")\n",
    "            movi = tmp[0].lower().split()\n",
    "            if(movie.lower() in movi) and c==0:\n",
    "                movie_sugg.append(tmp[0].replace(\" :\", \":\"))\n",
    "                print(\"sug1\" + str(movie_sugg))\n",
    "            if(movie.lower() in movi) and c==1:\n",
    "                movie_sugg = (tmp[0].replace(\" :\", \":\"))\n",
    "                print(\"sug2\" + str(movie_sugg))\n",
    "        print(\"did you mean: \", movie_sugg, end=\"\\n\\n\") if c<=1 else print(\"No movie found\")\n",
    "        c += 1\n",
    "        return\n",
    "    elif(movie == \"\"):\n",
    "        print(\"Enter a movie name\")\n",
    "        return\n",
    "    \n",
    "    for_sugg[\"title\"] = for_sugg[\"title\"].apply(lambda x: x.split(\",\"))\n",
    "    \n",
    "    index = ds[(ds[\"title\"].str.lower()) == movie.lower()].index[0]\n",
    "\n",
    "    moviess = for_sugg[\"title\"][index][1:]\n",
    "    rndm = []\n",
    "    for i in range(0,5):\n",
    "        rd = random.randint(1,10)\n",
    "        rndm.append(rd if rd not in rndm else random.randint(1,10))\n",
    "    print(rndm)\n",
    "    for i in rndm:\n",
    "        index2 = ds[(ds[\"title\"].str.lower()) == moviess[i].lower()].index[0]\n",
    "        print(\"Movie Id:\",ds.iloc[index2][\"movie_id\"])\n",
    "        print(\"Movie Name:\",moviess[i].replace(\" :\", \":\"))\n",
    "        print(\"Movie Overview:\",ds_overview.iloc[index2][\"overview\"], end=\"\\n\\n\")\n",
    "\n",
    "inp = str(input(\"Enter the movie name: \"))\n",
    "recommend(inp)\n",
    "\n",
    "if movie_sugg != []:\n",
    "        movie_re_input = str(input(\"Enter the movie name: \"))\n",
    "        recommend(movie_re_input)\n"
   ]
  }
 ],
 "metadata": {
  "kernelspec": {
   "display_name": "base",
   "language": "python",
   "name": "python3"
  },
  "language_info": {
   "codemirror_mode": {
    "name": "ipython",
    "version": 3
   },
   "file_extension": ".py",
   "mimetype": "text/x-python",
   "name": "python",
   "nbconvert_exporter": "python",
   "pygments_lexer": "ipython3",
   "version": "3.11.4"
  }
 },
 "nbformat": 4,
 "nbformat_minor": 2
}
